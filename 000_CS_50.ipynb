{
 "cells": [
  {
   "cell_type": "markdown",
   "metadata": {},
   "source": [
    "# Contents <a id=top>\n",
    "0. [Functions, Variables](#functions)\n",
    "1. [Conditionals](#conditionals)\n",
    "2. [Loops](#loops)\n",
    "3. [Exceptions](#exceptions)\n",
    "4. [Libraries](#libraries)\n",
    "5. [Unit Tests](#tests)\n",
    "6. [File I/O](#io)\n",
    "7. [Regular Expression](#regex)\n",
    "8. [Object-Oriented Programming](#oop)\n",
    "9. [Et Cetera](#etc) "
   ]
  }
 ],
 "metadata": {
  "language_info": {
   "name": "python"
  }
 },
 "nbformat": 4,
 "nbformat_minor": 2
}
