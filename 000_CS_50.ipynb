{
 "cells": [
  {
   "cell_type": "markdown",
   "metadata": {},
   "source": [
    "# Contents <a id=top></a>\n",
    "Code snippets from CS50: Python \n",
    "\n",
    "source: https://cs50.harvard.edu/python/2022/\n",
    "\n",
    "0. [Functions, Variables](#functions)\n",
    "1. [Conditionals](#conditionals)\n",
    "2. [Loops](#loops)\n",
    "3. [Exceptions](#exceptions)\n",
    "4. [Libraries](#libraries)\n",
    "5. [Unit Tests](#tests)\n",
    "6. [File I/O](#io)\n",
    "7. [Regular Expression](#regex)\n",
    "8. [Object-Oriented Programming](#oop)\n",
    "9. [Et Cetera](#etc) "
   ]
  },
  {
   "cell_type": "markdown",
   "metadata": {},
   "source": [
    "# 0. Functions, Variables <a id=functions>\n",
    "[Back to top](#top)\n"
   ]
  },
  {
   "cell_type": "code",
   "execution_count": 159,
   "metadata": {},
   "outputs": [
    {
     "name": "stdout",
     "output_type": "stream",
     "text": [
      "Hello, Oui\n"
     ]
    }
   ],
   "source": [
    "# str\n",
    "name = input(\"What is your name?\").strip().title()\n",
    "print(f\"Hello, {name}\")"
   ]
  },
  {
   "cell_type": "code",
   "execution_count": 160,
   "metadata": {},
   "outputs": [
    {
     "ename": "ValueError",
     "evalue": "invalid literal for int() with base 10: 'k'",
     "output_type": "error",
     "traceback": [
      "\u001b[0;31m---------------------------------------------------------------------------\u001b[0m",
      "\u001b[0;31mValueError\u001b[0m                                Traceback (most recent call last)",
      "Cell \u001b[0;32mIn[160], line 2\u001b[0m\n\u001b[1;32m      1\u001b[0m \u001b[38;5;66;03m# int\u001b[39;00m\n\u001b[0;32m----> 2\u001b[0m x \u001b[38;5;241m=\u001b[39m \u001b[38;5;28;43mint\u001b[39;49m\u001b[43m(\u001b[49m\u001b[38;5;28;43minput\u001b[39;49m\u001b[43m(\u001b[49m\u001b[38;5;124;43m\"\u001b[39;49m\u001b[38;5;124;43mEnter x: \u001b[39;49m\u001b[38;5;124;43m\"\u001b[39;49m\u001b[43m)\u001b[49m\u001b[43m)\u001b[49m\n\u001b[1;32m      3\u001b[0m y \u001b[38;5;241m=\u001b[39m \u001b[38;5;28mint\u001b[39m(\u001b[38;5;28minput\u001b[39m(\u001b[38;5;124m\"\u001b[39m\u001b[38;5;124mEnter y: \u001b[39m\u001b[38;5;124m\"\u001b[39m))\n\u001b[1;32m      4\u001b[0m \u001b[38;5;28mprint\u001b[39m(\u001b[38;5;124mf\u001b[39m\u001b[38;5;124m\"\u001b[39m\u001b[38;5;124mx + y = \u001b[39m\u001b[38;5;132;01m{\u001b[39;00mx\u001b[38;5;132;01m}\u001b[39;00m\u001b[38;5;124m + \u001b[39m\u001b[38;5;132;01m{\u001b[39;00my\u001b[38;5;132;01m}\u001b[39;00m\u001b[38;5;124m = \u001b[39m\u001b[38;5;132;01m{\u001b[39;00mx\u001b[38;5;241m+\u001b[39my\u001b[38;5;132;01m}\u001b[39;00m\u001b[38;5;124m\"\u001b[39m)\n",
      "\u001b[0;31mValueError\u001b[0m: invalid literal for int() with base 10: 'k'"
     ]
    }
   ],
   "source": [
    "# int\n",
    "x = int(input(\"Enter x: \"))\n",
    "y = int(input(\"Enter y: \"))\n",
    "print(f\"x + y = {x} + {y} = {x+y}\")"
   ]
  },
  {
   "cell_type": "code",
   "execution_count": null,
   "metadata": {},
   "outputs": [
    {
     "name": "stdout",
     "output_type": "stream",
     "text": [
      "The maximum integer value is 9,223,372,036,854,775,807\n"
     ]
    }
   ],
   "source": [
    "import sys\n",
    "\n",
    "max_int = sys.maxsize\n",
    "print(f\"The maximum integer value is {max_int:,}\")"
   ]
  },
  {
   "cell_type": "code",
   "execution_count": null,
   "metadata": {},
   "outputs": [
    {
     "name": "stdout",
     "output_type": "stream",
     "text": [
      "x + y = 23453245 + 789789.345345 = 24,243,034.35\n"
     ]
    }
   ],
   "source": [
    "# float\n",
    "x = int(input(\"Enter x: \"))\n",
    "y = float(input(\"Enter y: \"))\n",
    "print(f\"x + y = {x} + {y} = {x+y:,.2f}\")"
   ]
  },
  {
   "cell_type": "code",
   "execution_count": null,
   "metadata": {},
   "outputs": [
    {
     "name": "stdout",
     "output_type": "stream",
     "text": [
      "1.7976931348623157e+308\n"
     ]
    }
   ],
   "source": [
    "import sys\n",
    "\n",
    "# Get the maximum float value\n",
    "max_float = sys.float_info.max\n",
    "print(max_float)"
   ]
  },
  {
   "cell_type": "code",
   "execution_count": null,
   "metadata": {},
   "outputs": [
    {
     "name": "stdout",
     "output_type": "stream",
     "text": [
      "6 squared is 36\n"
     ]
    }
   ],
   "source": [
    "# user defined function\n",
    "def main():\n",
    "    x = int(input(\"Enter x: \"))\n",
    "    print(f\"{x} squared is {square(x)}\")\n",
    "\n",
    "def square(n):\n",
    "    return n*n\n",
    "\n",
    "main()"
   ]
  },
  {
   "cell_type": "markdown",
   "metadata": {},
   "source": [
    "# 1. Conditionals <a id=conditionals>\n",
    "[Back to top](#top)\n"
   ]
  },
  {
   "cell_type": "code",
   "execution_count": null,
   "metadata": {},
   "outputs": [
    {
     "name": "stdout",
     "output_type": "stream",
     "text": [
      "x is equal to y\n"
     ]
    }
   ],
   "source": [
    "x = int(input(\"Enter x: \"))\n",
    "y = int(input(\"Enter y: \"))\n",
    "\n",
    "if x < y:\n",
    "    print(f\"x is less than y\")\n",
    "elif x > y:\n",
    "    print(f\"x is feater than y\")\n",
    "else :\n",
    "    print(f\"x is equal to y\")"
   ]
  },
  {
   "cell_type": "code",
   "execution_count": null,
   "metadata": {},
   "outputs": [
    {
     "name": "stdout",
     "output_type": "stream",
     "text": [
      "2\n"
     ]
    }
   ],
   "source": [
    "x = int(input(\"Enter x: \"))\n",
    "\n",
    "match x:\n",
    "    case 1:\n",
    "        print(1)\n",
    "    case 2:\n",
    "        print(2)\n",
    "    case _:\n",
    "        print(\"?\")"
   ]
  },
  {
   "cell_type": "markdown",
   "metadata": {},
   "source": [
    "# 2. Loops <a id=loops>\n",
    "[Back to top](#top)\n"
   ]
  },
  {
   "cell_type": "code",
   "execution_count": null,
   "metadata": {},
   "outputs": [
    {
     "name": "stdout",
     "output_type": "stream",
     "text": [
      "boom\n",
      "boom\n",
      "boom\n"
     ]
    }
   ],
   "source": [
    "i = 3\n",
    "while i>0:\n",
    "    print(\"boom\")\n",
    "    i = i-1"
   ]
  },
  {
   "cell_type": "code",
   "execution_count": null,
   "metadata": {},
   "outputs": [
    {
     "name": "stdout",
     "output_type": "stream",
     "text": [
      "boom 0\n",
      "boom 1\n",
      "boom 2\n",
      "boom 3\n"
     ]
    }
   ],
   "source": [
    "for _ in range(4):\n",
    "    print(f\"boom {_}\")"
   ]
  },
  {
   "cell_type": "code",
   "execution_count": null,
   "metadata": {},
   "outputs": [
    {
     "name": "stdout",
     "output_type": "stream",
     "text": [
      "boom\n",
      "boom\n",
      "boom\n",
      "\n"
     ]
    }
   ],
   "source": [
    "print(\"boom\\n\" * 3)"
   ]
  },
  {
   "cell_type": "code",
   "execution_count": null,
   "metadata": {},
   "outputs": [
    {
     "name": "stdout",
     "output_type": "stream",
     "text": [
      "boom\n",
      "boom\n",
      "boom\n"
     ]
    }
   ],
   "source": [
    "while True:\n",
    "    x = int(input(\"Enter x: \"))\n",
    "    if x > 0:\n",
    "        break\n",
    "\n",
    "for _ in range(x):\n",
    "    print('boom')\n"
   ]
  },
  {
   "cell_type": "code",
   "execution_count": null,
   "metadata": {},
   "outputs": [
    {
     "name": "stdout",
     "output_type": "stream",
     "text": [
      "Herm\n",
      "Harry\n",
      "Ron\n",
      "Draco\n",
      "Herm Gryff\n",
      "Harry Gryff\n",
      "Ron Gryff\n",
      "Draco Slyth\n",
      "Herm\n",
      "Harry\n",
      "Ron\n",
      "Draco\n",
      "Gryff\n",
      "Gryff\n",
      "Gryff\n",
      "Slyth\n"
     ]
    }
   ],
   "source": [
    "students = {\"Herm\": \"Gryff\", \"Harry\":\"Gryff\", \"Ron\":\"Gryff\", \"Draco\":\"Slyth\"}\n",
    "for student in students:\n",
    "    print(student)\n",
    "    # print(students[student])\n",
    "\n",
    "for (k, v) in students.items():\n",
    "    print(k, v)\n",
    "\n",
    "for k in students.keys():\n",
    "    print(k)\n",
    "\n",
    "for v in students.values():\n",
    "    print(v)"
   ]
  },
  {
   "cell_type": "code",
   "execution_count": null,
   "metadata": {},
   "outputs": [
    {
     "name": "stdout",
     "output_type": "stream",
     "text": [
      "Herm\n",
      "Harry\n",
      "Ron\n",
      "Draco\n"
     ]
    }
   ],
   "source": [
    "students = [\n",
    "    {\"name\": \"Herm\", \"house\": \"Gryff\", \"patronus\":\"otter\"},\n",
    "    {\"name\": \"Harry\", \"house\": \"Gryff\", \"patronus\":\"stag\"},\n",
    "    {\"name\": \"Ron\", \"house\": \"Gryff\", \"patronus\":\"terrier\"},\n",
    "    {\"name\": \"Draco\", \"house\": \"Slyth\", \"patronus\":None}\n",
    "]\n",
    "for student in students:\n",
    "    print(student['name'])\n",
    "    # print(students[student])"
   ]
  },
  {
   "cell_type": "code",
   "execution_count": null,
   "metadata": {},
   "outputs": [
    {
     "name": "stdout",
     "output_type": "stream",
     "text": [
      "name ['Herm', 'Harry', 'Ron', 'Draco']\n",
      "house ['Gryff', 'Gryff', 'Gryff', 'Slyth']\n",
      "patronus ['Otter', 'stag', 'terrier', None]\n"
     ]
    }
   ],
   "source": [
    "students = {\n",
    "    \"name\": [\"Herm\", \"Harry\", \"Ron\", \"Draco\"],\n",
    "    \"house\": [\"Gryff\", \"Gryff\", \"Gryff\", \"Slyth\"],\n",
    "    \"patronus\": [\"Otter\", \"stag\", \"terrier\", None]\n",
    "}\n",
    "for k, v in students.items():\n",
    "    print(k, v)"
   ]
  },
  {
   "cell_type": "markdown",
   "metadata": {},
   "source": [
    "# 3. Exceptions <a id=exceptions>\n",
    "[Back to top](#top)\n",
    "\n",
    "SyntaxError\n",
    "ValueError\n",
    "NameError\n",
    "\n",
    "try\n",
    "except"
   ]
  },
  {
   "cell_type": "code",
   "execution_count": null,
   "metadata": {},
   "outputs": [
    {
     "ename": "ValueError",
     "evalue": "invalid literal for int() with base 10: 'act'",
     "output_type": "error",
     "traceback": [
      "\u001b[0;31m---------------------------------------------------------------------------\u001b[0m",
      "\u001b[0;31mValueError\u001b[0m                                Traceback (most recent call last)",
      "Cell \u001b[0;32mIn[96], line 1\u001b[0m\n\u001b[0;32m----> 1\u001b[0m x \u001b[38;5;241m=\u001b[39m \u001b[38;5;28;43mint\u001b[39;49m\u001b[43m(\u001b[49m\u001b[38;5;28;43minput\u001b[39;49m\u001b[43m(\u001b[49m\u001b[38;5;124;43m\"\u001b[39;49m\u001b[38;5;124;43mEnter x: \u001b[39;49m\u001b[38;5;124;43m\"\u001b[39;49m\u001b[43m)\u001b[49m\u001b[43m)\u001b[49m\n\u001b[1;32m      2\u001b[0m \u001b[38;5;28mprint\u001b[39m(x)\n",
      "\u001b[0;31mValueError\u001b[0m: invalid literal for int() with base 10: 'act'"
     ]
    }
   ],
   "source": [
    "x = int(input(\"Enter x: \"))\n",
    "print(x)"
   ]
  },
  {
   "cell_type": "code",
   "execution_count": null,
   "metadata": {},
   "outputs": [
    {
     "name": "stdout",
     "output_type": "stream",
     "text": [
      "x = 3\n"
     ]
    }
   ],
   "source": [
    "# try-except is more \"pythonic\" compared to validating data using if-else\n",
    "\n",
    "while True:\n",
    "    try:\n",
    "        x = int(input(\"Enter x: \"))\n",
    "    except ValueError:\n",
    "        # print(f\"x is not an int\")\n",
    "        pass\n",
    "    else:\n",
    "        break\n",
    "\n",
    "print(f\"x = {x}\")\n",
    "del x"
   ]
  },
  {
   "cell_type": "markdown",
   "metadata": {},
   "source": [
    "# 4. Libraries <a id=libraries>\n",
    "[Back to top](#top)\n"
   ]
  },
  {
   "cell_type": "code",
   "execution_count": null,
   "metadata": {},
   "outputs": [
    {
     "name": "stdout",
     "output_type": "stream",
     "text": [
      "T\n",
      "6\n",
      "['A', 'C', 'B', 'D']\n"
     ]
    }
   ],
   "source": [
    "import random\n",
    "\n",
    "print(random.choice(['H', 'T']))\n",
    "print(random.randint(1,10))\n",
    "\n",
    "x = ['A', 'B', 'C', 'D']\n",
    "random.shuffle(x) # shuffle happens in place\n",
    "print(x)"
   ]
  },
  {
   "cell_type": "code",
   "execution_count": null,
   "metadata": {},
   "outputs": [
    {
     "data": {
      "text/plain": [
       "'H'"
      ]
     },
     "execution_count": 117,
     "metadata": {},
     "output_type": "execute_result"
    }
   ],
   "source": [
    "from random import choice\n",
    "\n",
    "choice(['H', 'T'])"
   ]
  },
  {
   "cell_type": "code",
   "execution_count": null,
   "metadata": {},
   "outputs": [
    {
     "data": {
      "text/plain": [
       "6951"
      ]
     },
     "execution_count": 135,
     "metadata": {},
     "output_type": "execute_result"
    }
   ],
   "source": [
    "import statistics\n",
    "\n",
    "statistics.mean([100,95,34534,3,23])"
   ]
  },
  {
   "cell_type": "code",
   "execution_count": null,
   "metadata": {},
   "outputs": [],
   "source": [
    "import sys\n",
    "\n",
    "# sys.exit() terminates the whole program\n",
    "# break exits the current loop\n",
    "\n",
    "print(f\"Hello, my name is {sys.argv[1]}\")"
   ]
  },
  {
   "cell_type": "code",
   "execution_count": null,
   "metadata": {},
   "outputs": [
    {
     "name": "stdout",
     "output_type": "stream",
     "text": [
      "[10, 20, 30, 40, 50]\n"
     ]
    }
   ],
   "source": [
    "# Initialize list\n",
    "lst = [10, 20, 30, 40, 50, 60, 70]\n",
    "\n",
    "# Slice from index 1 to 5 with step 2\n",
    "print(lst[:-2]) # Output: [20, 40]"
   ]
  },
  {
   "cell_type": "code",
   "execution_count": null,
   "metadata": {},
   "outputs": [
    {
     "name": "stdout",
     "output_type": "stream",
     "text": [
      "Say It Ain't So\n",
      "Buddy Holly\n",
      "Undone - The Sweater Song\n",
      "My Name Is Jonas\n",
      "Weezer\n",
      "Holiday\n",
      "Surf Wax America\n",
      "Only in Dreams\n",
      "The World Has Turned and Left Me Here\n",
      "In the Garage\n"
     ]
    }
   ],
   "source": [
    "import requests, sys, json\n",
    "\n",
    "response = requests.get(\"https://itunes.apple.com/search?entity=song&limit=10&term=weezer\")\n",
    "\n",
    "# print(response.json())\n",
    "\n",
    "# print(json.dumps(response.json(), indent =2))\n",
    "\n",
    "for k in response.json()[\"results\"]:\n",
    "    print(k[\"trackName\"])"
   ]
  },
  {
   "cell_type": "markdown",
   "metadata": {},
   "source": [
    "# 5. Unit Tests <a id=tests>\n",
    "[Back to top](#top)\n",
    "\n",
    "Unit tests are used to test (user-defined) functions.\n",
    "\n",
    "Unit test frameworks like pytest handles the excepttions triggered by assert syntax.\n",
    "\n",
    "Run the following command for testing:\n",
    "$ pytest test_filename.py"
   ]
  },
  {
   "cell_type": "code",
   "execution_count": null,
   "metadata": {},
   "outputs": [],
   "source": [
    "import pytest\n",
    "\n",
    "def square(n):\n",
    "    return n*n  # Best practice is to 'return', not 'print()'\n",
    "\n",
    "def test_square():\n",
    "    assert square(2) == 4\n",
    "    assert square(x) == 'x2'\n",
    "\n",
    "def test_str():\n",
    "    with pytest.raises(TypeError):\n",
    "        square('x')\n",
    "\n"
   ]
  },
  {
   "cell_type": "markdown",
   "metadata": {},
   "source": [
    "# 6. File I/O <a id=io>\n",
    "[Back to top](#top)"
   ]
  },
  {
   "cell_type": "code",
   "execution_count": 190,
   "metadata": {},
   "outputs": [
    {
     "name": "stdout",
     "output_type": "stream",
     "text": [
      "Hello, Sam\n",
      "Hello, Frodo\n",
      "Hello, Gandalf\n"
     ]
    }
   ],
   "source": [
    "names = []\n",
    "\n",
    "for _ in range(3):\n",
    "    names.append(input(\"What is your name?\"))\n",
    "\n",
    "with open(\"name.txt\", \"w\") as file:\n",
    "    # for name in sorted(names):\n",
    "    for name in names:\n",
    "        print(f\"Hello, {name}\")\n",
    "        file.write(f\"{name}\\n\")"
   ]
  },
  {
   "cell_type": "code",
   "execution_count": 196,
   "metadata": {},
   "outputs": [
    {
     "name": "stdout",
     "output_type": "stream",
     "text": [
      "Hello, Sam\n",
      "\n",
      "Hello, Frodo\n",
      "\n",
      "Hello, Gandalf\n",
      "\n"
     ]
    }
   ],
   "source": [
    "with open(\"name.txt\", \"r\") as file:\n",
    "    lines = file.readlines()\n",
    "\n",
    "for line in lines:\n",
    "    print(f\"Hello, {line}\")  # rstrip() removes the \"\\n\""
   ]
  },
  {
   "cell_type": "code",
   "execution_count": 197,
   "metadata": {},
   "outputs": [
    {
     "name": "stdout",
     "output_type": "stream",
     "text": [
      "Hello, Sam\n",
      "Hello, Frodo\n",
      "Hello, Gandalf\n"
     ]
    }
   ],
   "source": [
    "with open(\"name.txt\", \"r\") as file:\n",
    "    for line in file:\n",
    "        print(f\"Hello, {line.rstrip()}\")  # rstrip() removes the \"\\n\""
   ]
  },
  {
   "cell_type": "code",
   "execution_count": 194,
   "metadata": {},
   "outputs": [
    {
     "name": "stdout",
     "output_type": "stream",
     "text": [
      "Hello, Frodo\n",
      "Hello, Gandalf\n",
      "Hello, Sam\n"
     ]
    }
   ],
   "source": [
    "names = []\n",
    "\n",
    "with open(\"name.txt\", \"r\") as file:\n",
    "    for line in file:\n",
    "        names.append(line.rstrip())\n",
    "\n",
    "for name in sorted(names):\n",
    "    print(f\"Hello, {name}\")  # rstrip() removes the \"\\n\""
   ]
  },
  {
   "cell_type": "code",
   "execution_count": 198,
   "metadata": {},
   "outputs": [
    {
     "name": "stdout",
     "output_type": "stream",
     "text": [
      "Hello, Frodo\n",
      "Hello, Gandalf\n",
      "Hello, Sam\n"
     ]
    }
   ],
   "source": [
    "with open(\"name.txt\", \"r\") as file:\n",
    "    for line in sorted(file):\n",
    "        print(f\"Hello, {line.rstrip()}\")  # rstrip() removes the \"\\n\""
   ]
  },
  {
   "cell_type": "code",
   "execution_count": 199,
   "metadata": {},
   "outputs": [],
   "source": [
    "import os\n",
    "\n",
    "# Rename a single file\n",
    "os.rename('name.txt', 'name.csv')"
   ]
  },
  {
   "cell_type": "code",
   "execution_count": 204,
   "metadata": {},
   "outputs": [
    {
     "name": "stdout",
     "output_type": "stream",
     "text": [
      "Sam is in the Shire\n",
      "Frodo is in the Shire\n",
      "Gandalf is in Gondor\n"
     ]
    }
   ],
   "source": [
    "with open(\"name.csv\", \"r\") as file:\n",
    "    for line in file:\n",
    "        row = line.rstrip().split(\",\")\n",
    "        print(f\"{row[0]} is in {row[1]}\")"
   ]
  },
  {
   "cell_type": "code",
   "execution_count": 205,
   "metadata": {},
   "outputs": [
    {
     "name": "stdout",
     "output_type": "stream",
     "text": [
      "Sam is in the Shire\n",
      "Frodo is in the Shire\n",
      "Gandalf is in Gondor\n"
     ]
    }
   ],
   "source": [
    "with open(\"name.csv\", \"r\") as file:\n",
    "    for line in file:\n",
    "        name, location = line.rstrip().split(\",\")\n",
    "        print(f\"{name} is in {location}\")"
   ]
  },
  {
   "cell_type": "code",
   "execution_count": 210,
   "metadata": {},
   "outputs": [
    {
     "name": "stdout",
     "output_type": "stream",
     "text": [
      "{'name': 'Sam', 'location': 'the Shire'}\n",
      "{'name': 'Frodo', 'location': 'the Shire'}\n",
      "{'name': 'Gandalf', 'location': 'Gondor'}\n"
     ]
    }
   ],
   "source": [
    "fellowship = []\n",
    "\n",
    "with open(\"name.csv\", \"r\") as file:\n",
    "    for line in file:\n",
    "        name, location = line.rstrip().split(\",\")\n",
    "        fellow = {\"name\": name, \"location\": location}\n",
    "        fellowship.append(fellow)\n",
    "\n",
    "def user_key(fellow):\n",
    "    return fellow['location']\n",
    "\n",
    "for fellow in sorted(fellowship, key=user_key, reverse=True): # sort on the list from get_name()\n",
    "    print(fellow)"
   ]
  },
  {
   "cell_type": "code",
   "execution_count": 219,
   "metadata": {},
   "outputs": [
    {
     "name": "stdout",
     "output_type": "stream",
     "text": [
      "{'name': 'Sam', 'location': 'the Shire'}\n",
      "{'name': 'Gandalf', 'location': 'Gondor'}\n",
      "{'name': 'Frodo', 'location': 'the Shire'}\n"
     ]
    }
   ],
   "source": [
    "fellowship = []\n",
    "\n",
    "with open(\"name.csv\", \"r\") as file:\n",
    "    for line in file:\n",
    "        name, location = line.rstrip().split(\",\")\n",
    "        fellow = {\"name\": name, \"location\": location}\n",
    "        fellowship.append(fellow)\n",
    "\n",
    "for fellow in sorted(fellowship, key=lambda x:x['name'], reverse=True): # sort on the list from lambda\n",
    "    print(fellow)"
   ]
  },
  {
   "cell_type": "markdown",
   "metadata": {},
   "source": [
    "## 6.1 csv <a id=csv></a>\n",
    "What if a value in the CSV file has a comma? import csv\n",
    "\n",
    "With csv package, we do not have to use rstrip() or split(\",\")"
   ]
  },
  {
   "cell_type": "code",
   "execution_count": null,
   "metadata": {},
   "outputs": [
    {
     "name": "stdout",
     "output_type": "stream",
     "text": [
      "{'name': 'Sam', 'location': 'the Shire'}\n",
      "{'name': 'Gandalf', 'location': 'Gondor'}\n",
      "{'name': 'Frodo', 'location': 'the Shire'}\n"
     ]
    }
   ],
   "source": [
    "import csv\n",
    "\n",
    "fellowship = []\n",
    "\n",
    "with open(\"name.csv\", \"r\") as file:\n",
    "    reader = csv.reader(file)\n",
    "    for name, location in reader:\n",
    "    # for line in file:\n",
    "    #     name, location = line.rstrip().split(\",\")\n",
    "        fellowship.append({\"name\": name, \"location\": location})\n",
    "\n",
    "for fellow in sorted(fellowship, key=lambda x:x['name'], reverse=True): # sort on the list from lambda\n",
    "    print(fellow)"
   ]
  },
  {
   "cell_type": "code",
   "execution_count": 227,
   "metadata": {},
   "outputs": [
    {
     "name": "stdout",
     "output_type": "stream",
     "text": [
      "{'name': 'pm', 'location': 'Downing, 10'}\n",
      "{'name': 'Sam', 'location': 'the Shire'}\n",
      "{'name': 'Gandalf', 'location': 'Gondor'}\n",
      "{'name': 'Frodo', 'location': 'the Shire'}\n"
     ]
    }
   ],
   "source": [
    "import csv\n",
    "\n",
    "fellowship = []\n",
    "\n",
    "with open(\"name.csv\", \"r\") as file:\n",
    "    reader = csv.DictReader(file)  # dictReader() works if the first line in the csv denotes column name\n",
    "    for row in reader:\n",
    "        # fellowship.append({\"name\": row[\"name\"], \"location\": row[\"location\"]})\n",
    "        fellowship.append(row)  # same outcome as the commented line above\n",
    "\n",
    "for fellow in sorted(fellowship, key=lambda x:x['name'], reverse=True): # sort on the list from lambda\n",
    "    print(fellow)"
   ]
  },
  {
   "cell_type": "code",
   "execution_count": null,
   "metadata": {},
   "outputs": [
    {
     "name": "stdout",
     "output_type": "stream",
     "text": [
      "<csv.DictReader object at 0x7efce0d6e320>\n",
      "{'name': 'pm', 'location': 'Downing, 10'}\n",
      "{'name': 'Sam', 'location': 'the Shire'}\n",
      "{'name': 'Gandalf', 'location': 'Gondor'}\n",
      "{'name': 'Frodo', 'location': 'the Shire'}\n"
     ]
    }
   ],
   "source": [
    "import csv\n",
    "\n",
    "fellowship = []\n",
    "\n",
    "with open(\"name.csv\", \"r\") as file:\n",
    "    reader = csv.DictReader(file)  # dictReader() works if the first line in the csv denotes column name\n",
    "    for row in sorted(reader, key=lambda x:x['name'], reverse=True): # sort on the list from lambda\n",
    "        print(row)"
   ]
  },
  {
   "cell_type": "code",
   "execution_count": null,
   "metadata": {},
   "outputs": [],
   "source": [
    "import csv\n",
    "\n",
    "name = input(\"name?\")\n",
    "location = input(\"location?\")\n",
    "\n",
    "with open(\"name.csv\", \"a\") as file:\n",
    "    writer = csv.writer(file, fieldnames=[\"name\", \"location\"]) \n",
    "    writer.writerow([name, location]) "
   ]
  },
  {
   "cell_type": "markdown",
   "metadata": {},
   "source": [
    "## 6.2 PIL (for image) <a idpil></a>"
   ]
  },
  {
   "cell_type": "code",
   "execution_count": null,
   "metadata": {},
   "outputs": [],
   "source": [
    "# create GIF from two images using PIL.Image\n",
    "\n",
    "import sys\n",
    "\n",
    "from PIL import Image\n",
    "\n",
    "images = []\n",
    "\n",
    "for arg in sys.argv[1:]:\n",
    "    image = Image.open(arg)\n",
    "    images.append(image)\n",
    "\n",
    "images[0].save(\n",
    "    'custom.gif', save_all=True, append=[images[1]], duration=200, loop=0\n",
    ")"
   ]
  },
  {
   "cell_type": "markdown",
   "metadata": {},
   "source": [
    "# 7. Regular Expression <a id=regex>\n",
    "[Back to top](#top)"
   ]
  },
  {
   "cell_type": "code",
   "execution_count": 231,
   "metadata": {},
   "outputs": [
    {
     "name": "stdout",
     "output_type": "stream",
     "text": [
      "valid email\n"
     ]
    }
   ],
   "source": [
    "# validate email address\n",
    "email = input(\"enter email ID:\").strip()\n",
    "\n",
    "if \"@\" and \".\" in email:\n",
    "    print(\"valid email\")\n",
    "else: \n",
    "    print(\"invalid email\")"
   ]
  },
  {
   "cell_type": "code",
   "execution_count": null,
   "metadata": {},
   "outputs": [
    {
     "name": "stdout",
     "output_type": "stream",
     "text": [
      "valid email\n"
     ]
    }
   ],
   "source": [
    "import re\n",
    "\n",
    "email = input(\"enter email ID:\").strip()\n",
    "\n",
    "# if re.search(\".+@.+\", email):\n",
    "# if re.search(r\".+@.+\\..+\", email):\n",
    "# if re.search(r\"^[^@ ]+@[^@ ]+\\.[^@ ]+$\", email):\n",
    "# if re.search(r\"^[a-zA-Z0-9_]+@[a-zA-Z0-9_]+\\.[a-zA-Z0-9_]+$\", email):\n",
    "# if re.search(r\"^\\w+@\\w+\\.\\w+$\", email, flags=re.IGNORECASE):\n",
    "if re.search(r\"^(\\w+\\.?)*@(\\w+\\.)*\\w+$\", email, flags=re.IGNORECASE):\n",
    "    print(\"valid email\")\n",
    "else: \n",
    "    print(\"invalid email\")"
   ]
  },
  {
   "cell_type": "code",
   "execution_count": null,
   "metadata": {},
   "outputs": [
    {
     "name": "stdout",
     "output_type": "stream",
     "text": [
      "username: peka\n"
     ]
    }
   ],
   "source": [
    "import re\n",
    "\n",
    "url = input(\"URL: \").strip()\n",
    "\n",
    "# username = url.replace(\"https://twitter.com/\", \"\")\n",
    "# username = url.removeprefix(\"https://twitter.com/\")\n",
    "username = re.sub(r\"^(https?://)?(www\\.|)twitter\\.com/\", \"\", url)\n",
    "\n",
    "print(f\"username: {username}\")"
   ]
  },
  {
   "cell_type": "markdown",
   "metadata": {},
   "source": [
    "# 8. Object Oriented Programming <a id=oop>\n",
    "[Back to top](#top)"
   ]
  }
 ],
 "metadata": {
  "kernelspec": {
   "display_name": ".venv",
   "language": "python",
   "name": "python3"
  },
  "language_info": {
   "codemirror_mode": {
    "name": "ipython",
    "version": 3
   },
   "file_extension": ".py",
   "mimetype": "text/x-python",
   "name": "python",
   "nbconvert_exporter": "python",
   "pygments_lexer": "ipython3",
   "version": "3.10.12"
  }
 },
 "nbformat": 4,
 "nbformat_minor": 2
}
