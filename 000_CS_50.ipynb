{
 "cells": [
  {
   "cell_type": "markdown",
   "metadata": {},
   "source": [
    "# Contents <a id=top></a>\n",
    "Code snippets from CS50: Python \n",
    "\n",
    "source: https://cs50.harvard.edu/python/2022/\n",
    "\n",
    "0. [Functions, Variables](#functions)\n",
    "1. [Conditionals](#conditionals)\n",
    "2. [Loops](#loops)\n",
    "3. [Exceptions](#exceptions)\n",
    "4. [Libraries](#libraries)\n",
    "5. [Unit Tests](#tests)\n",
    "6. [File I/O](#io)\n",
    "7. [Regular Expression](#regex)\n",
    "8. [Object-Oriented Programming](#oop)\n",
    "9. [Et Cetera](#etc) "
   ]
  },
  {
   "cell_type": "markdown",
   "metadata": {},
   "source": [
    "# 0. Functions, Variables <a id=functions>\n",
    "[Back to top](#top)\n"
   ]
  },
  {
   "cell_type": "code",
   "execution_count": 159,
   "metadata": {},
   "outputs": [
    {
     "name": "stdout",
     "output_type": "stream",
     "text": [
      "Hello, Oui\n"
     ]
    }
   ],
   "source": [
    "# str\n",
    "name = input(\"What is your name?\").strip().title()\n",
    "print(f\"Hello, {name}\")"
   ]
  },
  {
   "cell_type": "code",
   "execution_count": 160,
   "metadata": {},
   "outputs": [
    {
     "ename": "ValueError",
     "evalue": "invalid literal for int() with base 10: 'k'",
     "output_type": "error",
     "traceback": [
      "\u001b[0;31m---------------------------------------------------------------------------\u001b[0m",
      "\u001b[0;31mValueError\u001b[0m                                Traceback (most recent call last)",
      "Cell \u001b[0;32mIn[160], line 2\u001b[0m\n\u001b[1;32m      1\u001b[0m \u001b[38;5;66;03m# int\u001b[39;00m\n\u001b[0;32m----> 2\u001b[0m x \u001b[38;5;241m=\u001b[39m \u001b[38;5;28;43mint\u001b[39;49m\u001b[43m(\u001b[49m\u001b[38;5;28;43minput\u001b[39;49m\u001b[43m(\u001b[49m\u001b[38;5;124;43m\"\u001b[39;49m\u001b[38;5;124;43mEnter x: \u001b[39;49m\u001b[38;5;124;43m\"\u001b[39;49m\u001b[43m)\u001b[49m\u001b[43m)\u001b[49m\n\u001b[1;32m      3\u001b[0m y \u001b[38;5;241m=\u001b[39m \u001b[38;5;28mint\u001b[39m(\u001b[38;5;28minput\u001b[39m(\u001b[38;5;124m\"\u001b[39m\u001b[38;5;124mEnter y: \u001b[39m\u001b[38;5;124m\"\u001b[39m))\n\u001b[1;32m      4\u001b[0m \u001b[38;5;28mprint\u001b[39m(\u001b[38;5;124mf\u001b[39m\u001b[38;5;124m\"\u001b[39m\u001b[38;5;124mx + y = \u001b[39m\u001b[38;5;132;01m{\u001b[39;00mx\u001b[38;5;132;01m}\u001b[39;00m\u001b[38;5;124m + \u001b[39m\u001b[38;5;132;01m{\u001b[39;00my\u001b[38;5;132;01m}\u001b[39;00m\u001b[38;5;124m = \u001b[39m\u001b[38;5;132;01m{\u001b[39;00mx\u001b[38;5;241m+\u001b[39my\u001b[38;5;132;01m}\u001b[39;00m\u001b[38;5;124m\"\u001b[39m)\n",
      "\u001b[0;31mValueError\u001b[0m: invalid literal for int() with base 10: 'k'"
     ]
    }
   ],
   "source": [
    "# int\n",
    "x = int(input(\"Enter x: \"))\n",
    "y = int(input(\"Enter y: \"))\n",
    "print(f\"x + y = {x} + {y} = {x+y}\")"
   ]
  },
  {
   "cell_type": "code",
   "execution_count": null,
   "metadata": {},
   "outputs": [
    {
     "name": "stdout",
     "output_type": "stream",
     "text": [
      "The maximum integer value is 9,223,372,036,854,775,807\n"
     ]
    }
   ],
   "source": [
    "import sys\n",
    "\n",
    "max_int = sys.maxsize\n",
    "print(f\"The maximum integer value is {max_int:,}\")"
   ]
  },
  {
   "cell_type": "code",
   "execution_count": null,
   "metadata": {},
   "outputs": [
    {
     "name": "stdout",
     "output_type": "stream",
     "text": [
      "x + y = 23453245 + 789789.345345 = 24,243,034.35\n"
     ]
    }
   ],
   "source": [
    "# float\n",
    "x = int(input(\"Enter x: \"))\n",
    "y = float(input(\"Enter y: \"))\n",
    "print(f\"x + y = {x} + {y} = {x+y:,.2f}\")"
   ]
  },
  {
   "cell_type": "code",
   "execution_count": null,
   "metadata": {},
   "outputs": [
    {
     "name": "stdout",
     "output_type": "stream",
     "text": [
      "1.7976931348623157e+308\n"
     ]
    }
   ],
   "source": [
    "import sys\n",
    "\n",
    "# Get the maximum float value\n",
    "max_float = sys.float_info.max\n",
    "print(max_float)"
   ]
  },
  {
   "cell_type": "code",
   "execution_count": null,
   "metadata": {},
   "outputs": [
    {
     "name": "stdout",
     "output_type": "stream",
     "text": [
      "6 squared is 36\n"
     ]
    }
   ],
   "source": [
    "# user defined function\n",
    "def main():\n",
    "    x = int(input(\"Enter x: \"))\n",
    "    print(f\"{x} squared is {square(x)}\")\n",
    "\n",
    "def square(n):\n",
    "    return n*n\n",
    "\n",
    "main()"
   ]
  },
  {
   "cell_type": "markdown",
   "metadata": {},
   "source": [
    "# 1. Conditionals <a id=conditionals>\n",
    "[Back to top](#top)\n"
   ]
  },
  {
   "cell_type": "code",
   "execution_count": null,
   "metadata": {},
   "outputs": [
    {
     "name": "stdout",
     "output_type": "stream",
     "text": [
      "x is equal to y\n"
     ]
    }
   ],
   "source": [
    "x = int(input(\"Enter x: \"))\n",
    "y = int(input(\"Enter y: \"))\n",
    "\n",
    "if x < y:\n",
    "    print(f\"x is less than y\")\n",
    "elif x > y:\n",
    "    print(f\"x is feater than y\")\n",
    "else :\n",
    "    print(f\"x is equal to y\")"
   ]
  },
  {
   "cell_type": "code",
   "execution_count": null,
   "metadata": {},
   "outputs": [
    {
     "name": "stdout",
     "output_type": "stream",
     "text": [
      "2\n"
     ]
    }
   ],
   "source": [
    "x = int(input(\"Enter x: \"))\n",
    "\n",
    "match x:\n",
    "    case 1:\n",
    "        print(1)\n",
    "    case 2:\n",
    "        print(2)\n",
    "    case _:\n",
    "        print(\"?\")"
   ]
  },
  {
   "cell_type": "markdown",
   "metadata": {},
   "source": [
    "# 2. Loops <a id=loops>\n",
    "[Back to top](#top)\n"
   ]
  },
  {
   "cell_type": "code",
   "execution_count": null,
   "metadata": {},
   "outputs": [
    {
     "name": "stdout",
     "output_type": "stream",
     "text": [
      "boom\n",
      "boom\n",
      "boom\n"
     ]
    }
   ],
   "source": [
    "i = 3\n",
    "while i>0:\n",
    "    print(\"boom\")\n",
    "    i = i-1"
   ]
  },
  {
   "cell_type": "code",
   "execution_count": null,
   "metadata": {},
   "outputs": [
    {
     "name": "stdout",
     "output_type": "stream",
     "text": [
      "boom 0\n",
      "boom 1\n",
      "boom 2\n",
      "boom 3\n"
     ]
    }
   ],
   "source": [
    "for _ in range(4):\n",
    "    print(f\"boom {_}\")"
   ]
  },
  {
   "cell_type": "code",
   "execution_count": null,
   "metadata": {},
   "outputs": [
    {
     "name": "stdout",
     "output_type": "stream",
     "text": [
      "boom\n",
      "boom\n",
      "boom\n",
      "\n"
     ]
    }
   ],
   "source": [
    "print(\"boom\\n\" * 3)"
   ]
  },
  {
   "cell_type": "code",
   "execution_count": null,
   "metadata": {},
   "outputs": [
    {
     "name": "stdout",
     "output_type": "stream",
     "text": [
      "boom\n",
      "boom\n",
      "boom\n"
     ]
    }
   ],
   "source": [
    "while True:\n",
    "    x = int(input(\"Enter x: \"))\n",
    "    if x > 0:\n",
    "        break\n",
    "\n",
    "for _ in range(x):\n",
    "    print('boom')\n"
   ]
  },
  {
   "cell_type": "code",
   "execution_count": null,
   "metadata": {},
   "outputs": [
    {
     "name": "stdout",
     "output_type": "stream",
     "text": [
      "Herm\n",
      "Harry\n",
      "Ron\n",
      "Draco\n",
      "Herm Gryff\n",
      "Harry Gryff\n",
      "Ron Gryff\n",
      "Draco Slyth\n",
      "Herm\n",
      "Harry\n",
      "Ron\n",
      "Draco\n",
      "Gryff\n",
      "Gryff\n",
      "Gryff\n",
      "Slyth\n"
     ]
    }
   ],
   "source": [
    "students = {\"Herm\": \"Gryff\", \"Harry\":\"Gryff\", \"Ron\":\"Gryff\", \"Draco\":\"Slyth\"}\n",
    "for student in students:\n",
    "    print(student)\n",
    "    # print(students[student])\n",
    "\n",
    "for (k, v) in students.items():\n",
    "    print(k, v)\n",
    "\n",
    "for k in students.keys():\n",
    "    print(k)\n",
    "\n",
    "for v in students.values():\n",
    "    print(v)"
   ]
  },
  {
   "cell_type": "code",
   "execution_count": null,
   "metadata": {},
   "outputs": [
    {
     "name": "stdout",
     "output_type": "stream",
     "text": [
      "Herm\n",
      "Harry\n",
      "Ron\n",
      "Draco\n"
     ]
    }
   ],
   "source": [
    "students = [\n",
    "    {\"name\": \"Herm\", \"house\": \"Gryff\", \"patronus\":\"otter\"},\n",
    "    {\"name\": \"Harry\", \"house\": \"Gryff\", \"patronus\":\"stag\"},\n",
    "    {\"name\": \"Ron\", \"house\": \"Gryff\", \"patronus\":\"terrier\"},\n",
    "    {\"name\": \"Draco\", \"house\": \"Slyth\", \"patronus\":None}\n",
    "]\n",
    "for student in students:\n",
    "    print(student['name'])\n",
    "    # print(students[student])"
   ]
  },
  {
   "cell_type": "code",
   "execution_count": null,
   "metadata": {},
   "outputs": [
    {
     "name": "stdout",
     "output_type": "stream",
     "text": [
      "name ['Herm', 'Harry', 'Ron', 'Draco']\n",
      "house ['Gryff', 'Gryff', 'Gryff', 'Slyth']\n",
      "patronus ['Otter', 'stag', 'terrier', None]\n"
     ]
    }
   ],
   "source": [
    "students = {\n",
    "    \"name\": [\"Herm\", \"Harry\", \"Ron\", \"Draco\"],\n",
    "    \"house\": [\"Gryff\", \"Gryff\", \"Gryff\", \"Slyth\"],\n",
    "    \"patronus\": [\"Otter\", \"stag\", \"terrier\", None]\n",
    "}\n",
    "for k, v in students.items():\n",
    "    print(k, v)"
   ]
  },
  {
   "cell_type": "markdown",
   "metadata": {},
   "source": [
    "# 3. Exceptions <a id=exceptions>\n",
    "[Back to top](#top)\n",
    "\n",
    "SyntaxError\n",
    "ValueError\n",
    "NameError\n",
    "\n",
    "try\n",
    "except"
   ]
  },
  {
   "cell_type": "code",
   "execution_count": null,
   "metadata": {},
   "outputs": [
    {
     "ename": "ValueError",
     "evalue": "invalid literal for int() with base 10: 'act'",
     "output_type": "error",
     "traceback": [
      "\u001b[0;31m---------------------------------------------------------------------------\u001b[0m",
      "\u001b[0;31mValueError\u001b[0m                                Traceback (most recent call last)",
      "Cell \u001b[0;32mIn[96], line 1\u001b[0m\n\u001b[0;32m----> 1\u001b[0m x \u001b[38;5;241m=\u001b[39m \u001b[38;5;28;43mint\u001b[39;49m\u001b[43m(\u001b[49m\u001b[38;5;28;43minput\u001b[39;49m\u001b[43m(\u001b[49m\u001b[38;5;124;43m\"\u001b[39;49m\u001b[38;5;124;43mEnter x: \u001b[39;49m\u001b[38;5;124;43m\"\u001b[39;49m\u001b[43m)\u001b[49m\u001b[43m)\u001b[49m\n\u001b[1;32m      2\u001b[0m \u001b[38;5;28mprint\u001b[39m(x)\n",
      "\u001b[0;31mValueError\u001b[0m: invalid literal for int() with base 10: 'act'"
     ]
    }
   ],
   "source": [
    "x = int(input(\"Enter x: \"))\n",
    "print(x)"
   ]
  },
  {
   "cell_type": "code",
   "execution_count": null,
   "metadata": {},
   "outputs": [
    {
     "name": "stdout",
     "output_type": "stream",
     "text": [
      "x = 3\n"
     ]
    }
   ],
   "source": [
    "# try-except is more \"pythonic\" compared to validating data using if-else\n",
    "\n",
    "while True:\n",
    "    try:\n",
    "        x = int(input(\"Enter x: \"))\n",
    "    except ValueError:\n",
    "        # print(f\"x is not an int\")\n",
    "        pass\n",
    "    else:\n",
    "        break\n",
    "\n",
    "print(f\"x = {x}\")\n",
    "del x"
   ]
  },
  {
   "cell_type": "markdown",
   "metadata": {},
   "source": [
    "# 4. Libraries <a id=libraries>\n",
    "[Back to top](#top)\n"
   ]
  },
  {
   "cell_type": "code",
   "execution_count": null,
   "metadata": {},
   "outputs": [
    {
     "name": "stdout",
     "output_type": "stream",
     "text": [
      "T\n",
      "6\n",
      "['A', 'C', 'B', 'D']\n"
     ]
    }
   ],
   "source": [
    "import random\n",
    "\n",
    "print(random.choice(['H', 'T']))\n",
    "print(random.randint(1,10))\n",
    "\n",
    "x = ['A', 'B', 'C', 'D']\n",
    "random.shuffle(x) # shuffle happens in place\n",
    "print(x)"
   ]
  },
  {
   "cell_type": "code",
   "execution_count": null,
   "metadata": {},
   "outputs": [
    {
     "data": {
      "text/plain": [
       "'H'"
      ]
     },
     "execution_count": 117,
     "metadata": {},
     "output_type": "execute_result"
    }
   ],
   "source": [
    "from random import choice\n",
    "\n",
    "choice(['H', 'T'])"
   ]
  },
  {
   "cell_type": "code",
   "execution_count": null,
   "metadata": {},
   "outputs": [
    {
     "data": {
      "text/plain": [
       "6951"
      ]
     },
     "execution_count": 135,
     "metadata": {},
     "output_type": "execute_result"
    }
   ],
   "source": [
    "import statistics\n",
    "\n",
    "statistics.mean([100,95,34534,3,23])"
   ]
  },
  {
   "cell_type": "code",
   "execution_count": null,
   "metadata": {},
   "outputs": [],
   "source": [
    "import sys\n",
    "\n",
    "# sys.exit() terminates the whole program\n",
    "# break exits the current loop\n",
    "\n",
    "print(f\"Hello, my name is {sys.argv[1]}\")"
   ]
  },
  {
   "cell_type": "code",
   "execution_count": null,
   "metadata": {},
   "outputs": [
    {
     "name": "stdout",
     "output_type": "stream",
     "text": [
      "[10, 20, 30, 40, 50]\n"
     ]
    }
   ],
   "source": [
    "# Initialize list\n",
    "lst = [10, 20, 30, 40, 50, 60, 70]\n",
    "\n",
    "# Slice from index 1 to 5 with step 2\n",
    "print(lst[:-2]) # Output: [20, 40]"
   ]
  },
  {
   "cell_type": "code",
   "execution_count": null,
   "metadata": {},
   "outputs": [
    {
     "name": "stdout",
     "output_type": "stream",
     "text": [
      "Say It Ain't So\n",
      "Buddy Holly\n",
      "Undone - The Sweater Song\n",
      "My Name Is Jonas\n",
      "Weezer\n",
      "Holiday\n",
      "Surf Wax America\n",
      "Only in Dreams\n",
      "The World Has Turned and Left Me Here\n",
      "In the Garage\n"
     ]
    }
   ],
   "source": [
    "import requests, sys, json\n",
    "\n",
    "response = requests.get(\"https://itunes.apple.com/search?entity=song&limit=10&term=weezer\")\n",
    "\n",
    "# print(response.json())\n",
    "\n",
    "# print(json.dumps(response.json(), indent =2))\n",
    "\n",
    "for k in response.json()[\"results\"]:\n",
    "    print(k[\"trackName\"])"
   ]
  },
  {
   "cell_type": "markdown",
   "metadata": {},
   "source": [
    "# 5. Unit Tests <a id=tests>\n",
    "[Back to top](#top)\n",
    "\n",
    "Unit tests are used to test (user-defined) functions.\n",
    "\n",
    "Unit test frameworks like pytest handles the excepttions triggered by assert syntax.\n",
    "\n",
    "1. save a test script (e.g. test_square and test_str functions below) in a single file (e.g. test_filename.py). Note both the function and the file have a prefix of 'test_'.\n",
    "2. Run the following command for testing:\n",
    "$ pytest test_filename.py"
   ]
  },
  {
   "cell_type": "code",
   "execution_count": null,
   "metadata": {},
   "outputs": [],
   "source": [
    "import pytest\n",
    "\n",
    "def square(n):\n",
    "    return n*n  # Best practice is to 'return', not 'print()'\n",
    "\n",
    "def test_square():\n",
    "    assert square(2) == 4\n",
    "    assert square(-3) == 0\n",
    "\n",
    "def test_str():\n",
    "    with pytest.raises(TypeError):  # this means we expect a TypeError exception for 'x'\n",
    "        square('x')\n",
    "\n"
   ]
  },
  {
   "cell_type": "markdown",
   "metadata": {},
   "source": [
    "# 6. File I/O <a id=io>\n",
    "[Back to top](#top)"
   ]
  },
  {
   "cell_type": "code",
   "execution_count": 190,
   "metadata": {},
   "outputs": [
    {
     "name": "stdout",
     "output_type": "stream",
     "text": [
      "Hello, Sam\n",
      "Hello, Frodo\n",
      "Hello, Gandalf\n"
     ]
    }
   ],
   "source": [
    "names = []\n",
    "\n",
    "for _ in range(3):\n",
    "    names.append(input(\"What is your name?\"))\n",
    "\n",
    "with open(\"name.txt\", \"w\") as file:\n",
    "    # for name in sorted(names):\n",
    "    for name in names:\n",
    "        print(f\"Hello, {name}\")\n",
    "        file.write(f\"{name}\\n\")"
   ]
  },
  {
   "cell_type": "code",
   "execution_count": 196,
   "metadata": {},
   "outputs": [
    {
     "name": "stdout",
     "output_type": "stream",
     "text": [
      "Hello, Sam\n",
      "\n",
      "Hello, Frodo\n",
      "\n",
      "Hello, Gandalf\n",
      "\n"
     ]
    }
   ],
   "source": [
    "with open(\"name.txt\", \"r\") as file:\n",
    "    lines = file.readlines()\n",
    "\n",
    "for line in lines:\n",
    "    print(f\"Hello, {line}\")  # rstrip() removes the \"\\n\""
   ]
  },
  {
   "cell_type": "code",
   "execution_count": 197,
   "metadata": {},
   "outputs": [
    {
     "name": "stdout",
     "output_type": "stream",
     "text": [
      "Hello, Sam\n",
      "Hello, Frodo\n",
      "Hello, Gandalf\n"
     ]
    }
   ],
   "source": [
    "with open(\"name.txt\", \"r\") as file:\n",
    "    for line in file:\n",
    "        print(f\"Hello, {line.rstrip()}\")  # rstrip() removes the \"\\n\""
   ]
  },
  {
   "cell_type": "code",
   "execution_count": 194,
   "metadata": {},
   "outputs": [
    {
     "name": "stdout",
     "output_type": "stream",
     "text": [
      "Hello, Frodo\n",
      "Hello, Gandalf\n",
      "Hello, Sam\n"
     ]
    }
   ],
   "source": [
    "names = []\n",
    "\n",
    "with open(\"name.txt\", \"r\") as file:\n",
    "    for line in file:\n",
    "        names.append(line.rstrip())\n",
    "\n",
    "for name in sorted(names):\n",
    "    print(f\"Hello, {name}\")  # rstrip() removes the \"\\n\""
   ]
  },
  {
   "cell_type": "code",
   "execution_count": 198,
   "metadata": {},
   "outputs": [
    {
     "name": "stdout",
     "output_type": "stream",
     "text": [
      "Hello, Frodo\n",
      "Hello, Gandalf\n",
      "Hello, Sam\n"
     ]
    }
   ],
   "source": [
    "with open(\"name.txt\", \"r\") as file:\n",
    "    for line in sorted(file):\n",
    "        print(f\"Hello, {line.rstrip()}\")  # rstrip() removes the \"\\n\""
   ]
  },
  {
   "cell_type": "code",
   "execution_count": 199,
   "metadata": {},
   "outputs": [],
   "source": [
    "import os\n",
    "\n",
    "# Rename a single file\n",
    "os.rename('name.txt', 'name.csv')"
   ]
  },
  {
   "cell_type": "code",
   "execution_count": 204,
   "metadata": {},
   "outputs": [
    {
     "name": "stdout",
     "output_type": "stream",
     "text": [
      "Sam is in the Shire\n",
      "Frodo is in the Shire\n",
      "Gandalf is in Gondor\n"
     ]
    }
   ],
   "source": [
    "with open(\"name.csv\", \"r\") as file:\n",
    "    for line in file:\n",
    "        row = line.rstrip().split(\",\")\n",
    "        print(f\"{row[0]} is in {row[1]}\")"
   ]
  },
  {
   "cell_type": "code",
   "execution_count": 205,
   "metadata": {},
   "outputs": [
    {
     "name": "stdout",
     "output_type": "stream",
     "text": [
      "Sam is in the Shire\n",
      "Frodo is in the Shire\n",
      "Gandalf is in Gondor\n"
     ]
    }
   ],
   "source": [
    "with open(\"name.csv\", \"r\") as file:\n",
    "    for line in file:\n",
    "        name, location = line.rstrip().split(\",\")\n",
    "        print(f\"{name} is in {location}\")"
   ]
  },
  {
   "cell_type": "code",
   "execution_count": 210,
   "metadata": {},
   "outputs": [
    {
     "name": "stdout",
     "output_type": "stream",
     "text": [
      "{'name': 'Sam', 'location': 'the Shire'}\n",
      "{'name': 'Frodo', 'location': 'the Shire'}\n",
      "{'name': 'Gandalf', 'location': 'Gondor'}\n"
     ]
    }
   ],
   "source": [
    "fellowship = []\n",
    "\n",
    "with open(\"name.csv\", \"r\") as file:\n",
    "    for line in file:\n",
    "        name, location = line.rstrip().split(\",\")\n",
    "        fellow = {\"name\": name, \"location\": location}\n",
    "        fellowship.append(fellow)\n",
    "\n",
    "def user_key(fellow):\n",
    "    return fellow['location']\n",
    "\n",
    "for fellow in sorted(fellowship, key=user_key, reverse=True): # sort on the list from get_name()\n",
    "    print(fellow)"
   ]
  },
  {
   "cell_type": "code",
   "execution_count": 219,
   "metadata": {},
   "outputs": [
    {
     "name": "stdout",
     "output_type": "stream",
     "text": [
      "{'name': 'Sam', 'location': 'the Shire'}\n",
      "{'name': 'Gandalf', 'location': 'Gondor'}\n",
      "{'name': 'Frodo', 'location': 'the Shire'}\n"
     ]
    }
   ],
   "source": [
    "fellowship = []\n",
    "\n",
    "with open(\"name.csv\", \"r\") as file:\n",
    "    for line in file:\n",
    "        name, location = line.rstrip().split(\",\")\n",
    "        fellow = {\"name\": name, \"location\": location}\n",
    "        fellowship.append(fellow)\n",
    "\n",
    "for fellow in sorted(fellowship, key=lambda x:x['name'], reverse=True): # sort on the list from lambda\n",
    "    print(fellow)"
   ]
  },
  {
   "cell_type": "markdown",
   "metadata": {},
   "source": [
    "## 6.1 csv <a id=csv></a>\n",
    "What if a value in the CSV file has a comma? import csv\n",
    "\n",
    "With csv package, we do not have to use rstrip() or split(\",\")"
   ]
  },
  {
   "cell_type": "code",
   "execution_count": null,
   "metadata": {},
   "outputs": [
    {
     "name": "stdout",
     "output_type": "stream",
     "text": [
      "{'name': 'Sam', 'location': 'the Shire'}\n",
      "{'name': 'Gandalf', 'location': 'Gondor'}\n",
      "{'name': 'Frodo', 'location': 'the Shire'}\n"
     ]
    }
   ],
   "source": [
    "import csv\n",
    "\n",
    "fellowship = []\n",
    "\n",
    "with open(\"name.csv\", \"r\") as file:\n",
    "    reader = csv.reader(file)\n",
    "    for name, location in reader:\n",
    "    # for line in file:\n",
    "    #     name, location = line.rstrip().split(\",\")\n",
    "        fellowship.append({\"name\": name, \"location\": location})\n",
    "\n",
    "for fellow in sorted(fellowship, key=lambda x:x['name'], reverse=True): # sort on the list from lambda\n",
    "    print(fellow)"
   ]
  },
  {
   "cell_type": "code",
   "execution_count": 227,
   "metadata": {},
   "outputs": [
    {
     "name": "stdout",
     "output_type": "stream",
     "text": [
      "{'name': 'pm', 'location': 'Downing, 10'}\n",
      "{'name': 'Sam', 'location': 'the Shire'}\n",
      "{'name': 'Gandalf', 'location': 'Gondor'}\n",
      "{'name': 'Frodo', 'location': 'the Shire'}\n"
     ]
    }
   ],
   "source": [
    "import csv\n",
    "\n",
    "fellowship = []\n",
    "\n",
    "with open(\"name.csv\", \"r\") as file:\n",
    "    reader = csv.DictReader(file)  # dictReader() works if the first line in the csv denotes column name\n",
    "    for row in reader:\n",
    "        # fellowship.append({\"name\": row[\"name\"], \"location\": row[\"location\"]})\n",
    "        fellowship.append(row)  # same outcome as the commented line above\n",
    "\n",
    "for fellow in sorted(fellowship, key=lambda x:x['name'], reverse=True): # sort on the list from lambda\n",
    "    print(fellow)"
   ]
  },
  {
   "cell_type": "code",
   "execution_count": null,
   "metadata": {},
   "outputs": [
    {
     "name": "stdout",
     "output_type": "stream",
     "text": [
      "<csv.DictReader object at 0x7efce0d6e320>\n",
      "{'name': 'pm', 'location': 'Downing, 10'}\n",
      "{'name': 'Sam', 'location': 'the Shire'}\n",
      "{'name': 'Gandalf', 'location': 'Gondor'}\n",
      "{'name': 'Frodo', 'location': 'the Shire'}\n"
     ]
    }
   ],
   "source": [
    "import csv\n",
    "\n",
    "fellowship = []\n",
    "\n",
    "with open(\"name.csv\", \"r\") as file:\n",
    "    reader = csv.DictReader(file)  # dictReader() works if the first line in the csv denotes column name\n",
    "    for row in sorted(reader, key=lambda x:x['name'], reverse=True): # sort on the list from lambda\n",
    "        print(row)"
   ]
  },
  {
   "cell_type": "code",
   "execution_count": null,
   "metadata": {},
   "outputs": [],
   "source": [
    "import csv\n",
    "\n",
    "name = input(\"name?\")\n",
    "location = input(\"location?\")\n",
    "\n",
    "with open(\"name.csv\", \"a\") as file:\n",
    "    writer = csv.writer(file, fieldnames=[\"name\", \"location\"]) \n",
    "    writer.writerow([name, location]) "
   ]
  },
  {
   "cell_type": "markdown",
   "metadata": {},
   "source": [
    "## 6.2 PIL (for image) <a idpil></a>"
   ]
  },
  {
   "cell_type": "code",
   "execution_count": null,
   "metadata": {},
   "outputs": [],
   "source": [
    "# create GIF from two images using PIL.Image\n",
    "\n",
    "import sys\n",
    "\n",
    "from PIL import Image\n",
    "\n",
    "images = []\n",
    "\n",
    "for arg in sys.argv[1:]:\n",
    "    image = Image.open(arg)\n",
    "    images.append(image)\n",
    "\n",
    "images[0].save(\n",
    "    'custom.gif', save_all=True, append=[images[1]], duration=200, loop=0\n",
    ")"
   ]
  },
  {
   "cell_type": "markdown",
   "metadata": {},
   "source": [
    "# 7. Regular Expression <a id=regex>\n",
    "[Back to top](#top)"
   ]
  },
  {
   "cell_type": "code",
   "execution_count": 231,
   "metadata": {},
   "outputs": [
    {
     "name": "stdout",
     "output_type": "stream",
     "text": [
      "valid email\n"
     ]
    }
   ],
   "source": [
    "# validate email address\n",
    "email = input(\"enter email ID:\").strip()\n",
    "\n",
    "if \"@\" and \".\" in email:\n",
    "    print(\"valid email\")\n",
    "else: \n",
    "    print(\"invalid email\")"
   ]
  },
  {
   "cell_type": "code",
   "execution_count": null,
   "metadata": {},
   "outputs": [
    {
     "name": "stdout",
     "output_type": "stream",
     "text": [
      "valid email\n"
     ]
    }
   ],
   "source": [
    "import re\n",
    "\n",
    "email = input(\"enter email ID:\").strip()\n",
    "\n",
    "# if re.search(\".+@.+\", email):\n",
    "# if re.search(r\".+@.+\\..+\", email):\n",
    "# if re.search(r\"^[^@ ]+@[^@ ]+\\.[^@ ]+$\", email):\n",
    "# if re.search(r\"^[a-zA-Z0-9_]+@[a-zA-Z0-9_]+\\.[a-zA-Z0-9_]+$\", email):\n",
    "# if re.search(r\"^\\w+@\\w+\\.\\w+$\", email, flags=re.IGNORECASE):\n",
    "if re.search(r\"^(\\w+\\.?)*@(\\w+\\.)*\\w+$\", email, flags=re.IGNORECASE):\n",
    "    print(\"valid email\")\n",
    "else: \n",
    "    print(\"invalid email\")"
   ]
  },
  {
   "cell_type": "code",
   "execution_count": null,
   "metadata": {},
   "outputs": [
    {
     "name": "stdout",
     "output_type": "stream",
     "text": [
      "username: peka\n"
     ]
    }
   ],
   "source": [
    "import re\n",
    "\n",
    "url = input(\"URL: \").strip()\n",
    "\n",
    "# username = url.replace(\"https://twitter.com/\", \"\")\n",
    "# username = url.removeprefix(\"https://twitter.com/\")\n",
    "username = re.sub(r\"^(https?://)?(www\\.|)twitter\\.com/\", \"\", url)\n",
    "\n",
    "print(f\"username: {username}\")"
   ]
  },
  {
   "cell_type": "markdown",
   "metadata": {},
   "source": [
    "# 8. Object Oriented Programming <a id=oop>\n",
    "[Back to top](#top)"
   ]
  },
  {
   "cell_type": "code",
   "execution_count": 4,
   "metadata": {},
   "outputs": [
    {
     "name": "stdout",
     "output_type": "stream",
     "text": [
      "Peka from Durtlang\n"
     ]
    }
   ],
   "source": [
    "def main():\n",
    "    name = get_name()\n",
    "    house = get_house()\n",
    "    print(f\"{name} from {house}\")\n",
    "\n",
    "def get_name():\n",
    "    return input(\"Name: \")\n",
    "\n",
    "def get_house():\n",
    "    return input(\"House: \")\n",
    "\n",
    "if __name__ == \"__main__\":\n",
    "    main()"
   ]
  },
  {
   "cell_type": "code",
   "execution_count": null,
   "metadata": {},
   "outputs": [
    {
     "ename": "TypeError",
     "evalue": "'tuple' object does not support item assignment",
     "output_type": "error",
     "traceback": [
      "\u001b[0;31m---------------------------------------------------------------------------\u001b[0m",
      "\u001b[0;31mTypeError\u001b[0m                                 Traceback (most recent call last)",
      "Cell \u001b[0;32mIn[7], line 13\u001b[0m\n\u001b[1;32m     10\u001b[0m     \u001b[38;5;28;01mreturn\u001b[39;00m (name, house)\n\u001b[1;32m     12\u001b[0m \u001b[38;5;28;01mif\u001b[39;00m \u001b[38;5;18m__name__\u001b[39m \u001b[38;5;241m==\u001b[39m \u001b[38;5;124m\"\u001b[39m\u001b[38;5;124m__main__\u001b[39m\u001b[38;5;124m\"\u001b[39m:\n\u001b[0;32m---> 13\u001b[0m     \u001b[43mmain\u001b[49m\u001b[43m(\u001b[49m\u001b[43m)\u001b[49m\n",
      "Cell \u001b[0;32mIn[7], line 4\u001b[0m, in \u001b[0;36mmain\u001b[0;34m()\u001b[0m\n\u001b[1;32m      2\u001b[0m student \u001b[38;5;241m=\u001b[39m get_student()\n\u001b[1;32m      3\u001b[0m \u001b[38;5;28;01mif\u001b[39;00m student[\u001b[38;5;241m0\u001b[39m]\u001b[38;5;241m.\u001b[39mstrip()\u001b[38;5;241m.\u001b[39mlower() \u001b[38;5;241m==\u001b[39m \u001b[38;5;124m'\u001b[39m\u001b[38;5;124mpadma\u001b[39m\u001b[38;5;124m'\u001b[39m:\n\u001b[0;32m----> 4\u001b[0m     \u001b[43mstudent\u001b[49m\u001b[43m[\u001b[49m\u001b[38;5;241;43m1\u001b[39;49m\u001b[43m]\u001b[49m \u001b[38;5;241m=\u001b[39m \u001b[38;5;124m\"\u001b[39m\u001b[38;5;124mRavenclaw\u001b[39m\u001b[38;5;124m\"\u001b[39m\n\u001b[1;32m      5\u001b[0m \u001b[38;5;28mprint\u001b[39m(\u001b[38;5;124mf\u001b[39m\u001b[38;5;124m\"\u001b[39m\u001b[38;5;132;01m{\u001b[39;00mstudent[\u001b[38;5;241m0\u001b[39m]\u001b[38;5;132;01m}\u001b[39;00m\u001b[38;5;124m from \u001b[39m\u001b[38;5;132;01m{\u001b[39;00mstudent[\u001b[38;5;241m1\u001b[39m]\u001b[38;5;132;01m}\u001b[39;00m\u001b[38;5;124m\"\u001b[39m)\n",
      "\u001b[0;31mTypeError\u001b[0m: 'tuple' object does not support item assignment"
     ]
    }
   ],
   "source": [
    "# tuple immutability showcased here\n",
    "def main():\n",
    "    student = get_student()\n",
    "    if student[0].strip().lower() == 'padma':\n",
    "        student[1] = \"Ravenclaw\"\n",
    "    print(f\"{student[0]} from {student[1]}\")\n",
    "\n",
    "def get_student():\n",
    "    name = input(\"Name: \")\n",
    "    house = input(\"House: \")\n",
    "    return (name, house)\n",
    "\n",
    "if __name__ == \"__main__\":\n",
    "    main()"
   ]
  },
  {
   "cell_type": "code",
   "execution_count": null,
   "metadata": {},
   "outputs": [
    {
     "name": "stdout",
     "output_type": "stream",
     "text": [
      "padma from Ravenclaw\n"
     ]
    }
   ],
   "source": [
    "# list mutability showcased here\n",
    "def main():\n",
    "    student = get_student()\n",
    "    if student[0].strip().lower() == 'padma':\n",
    "        student[1] = \"Ravenclaw\"\n",
    "    print(f\"{student[0]} from {student[1]}\")\n",
    "\n",
    "def get_student():\n",
    "    name = input(\"Name: \")\n",
    "    house = input(\"House: \")\n",
    "    return [name, house]\n",
    "\n",
    "if __name__ == \"__main__\":\n",
    "    main()"
   ]
  },
  {
   "cell_type": "code",
   "execution_count": null,
   "metadata": {},
   "outputs": [
    {
     "name": "stdout",
     "output_type": "stream",
     "text": [
      "peka from leitan\n"
     ]
    }
   ],
   "source": [
    "# demonstration of \"class\"\n",
    "# class object are mutable by default, but can be made immutable\n",
    "# blank class\n",
    "\n",
    "class Student:\n",
    "    pass\n",
    "    # def __init__(self, name, house):\n",
    "    #     self.name = name\n",
    "    #     self.house = house\n",
    "\n",
    "def main():\n",
    "    student = get_student()\n",
    "    if student.name.strip().lower() == 'padma':\n",
    "        student[1] = \"Ravenclaw\"\n",
    "    print(f\"{student.name} from {student.house}\")\n",
    "\n",
    "def get_student():\n",
    "    student = Student()\n",
    "    student.name = input(\"Name: \")\n",
    "    student.house = input(\"House: \")\n",
    "    return student\n",
    "\n",
    "if __name__ == \"__main__\":\n",
    "    main()"
   ]
  },
  {
   "cell_type": "code",
   "execution_count": null,
   "metadata": {},
   "outputs": [
    {
     "name": "stdout",
     "output_type": "stream",
     "text": [
      "<__main__.Student object at 0x7fb8f7feb2b0>\n"
     ]
    }
   ],
   "source": [
    "# class with variables\n",
    "class Student:\n",
    "    def __init__(self, name, house):\n",
    "        if not name:\n",
    "            raise ValueError(\"Missing name\")\n",
    "\n",
    "        self.name = name\n",
    "        self.house = house\n",
    "\n",
    "    # def __str__():  # dunder for returning string\n",
    "\n",
    "def main():\n",
    "    student = get_student()\n",
    "    if student.name.strip().lower() == 'padma':\n",
    "        student[1] = \"Ravenclaw\"\n",
    "    print(student)\n",
    "\n",
    "def get_student():\n",
    "    # student = Student()\n",
    "    # student.name = input(\"Name: \")\n",
    "    # student.house = input(\"House: \")\n",
    "    # return student\n",
    "    return Student(input(\"Name: \"), input(\"House: \"))\n",
    "\n",
    "if __name__ == \"__main__\":\n",
    "    main()"
   ]
  },
  {
   "cell_type": "code",
   "execution_count": null,
   "metadata": {},
   "outputs": [
    {
     "ename": "ValueError",
     "evalue": "Missing name",
     "output_type": "error",
     "traceback": [
      "\u001b[0;31m---------------------------------------------------------------------------\u001b[0m",
      "\u001b[0;31mValueError\u001b[0m                                Traceback (most recent call last)",
      "Cell \u001b[0;32mIn[17], line 32\u001b[0m\n\u001b[1;32m     29\u001b[0m     \u001b[38;5;28;01mreturn\u001b[39;00m Student(\u001b[38;5;28minput\u001b[39m(\u001b[38;5;124m\"\u001b[39m\u001b[38;5;124mName: \u001b[39m\u001b[38;5;124m\"\u001b[39m), \u001b[38;5;28minput\u001b[39m(\u001b[38;5;124m\"\u001b[39m\u001b[38;5;124mHouse: \u001b[39m\u001b[38;5;124m\"\u001b[39m))\n\u001b[1;32m     31\u001b[0m \u001b[38;5;28;01mif\u001b[39;00m \u001b[38;5;18m__name__\u001b[39m \u001b[38;5;241m==\u001b[39m \u001b[38;5;124m\"\u001b[39m\u001b[38;5;124m__main__\u001b[39m\u001b[38;5;124m\"\u001b[39m:\n\u001b[0;32m---> 32\u001b[0m     \u001b[43mmain\u001b[49m\u001b[43m(\u001b[49m\u001b[43m)\u001b[49m\n",
      "Cell \u001b[0;32mIn[17], line 19\u001b[0m, in \u001b[0;36mmain\u001b[0;34m()\u001b[0m\n\u001b[1;32m     18\u001b[0m \u001b[38;5;28;01mdef\u001b[39;00m \u001b[38;5;21mmain\u001b[39m():\n\u001b[0;32m---> 19\u001b[0m     student \u001b[38;5;241m=\u001b[39m \u001b[43mget_student\u001b[49m\u001b[43m(\u001b[49m\u001b[43m)\u001b[49m\n\u001b[1;32m     20\u001b[0m     \u001b[38;5;28;01mif\u001b[39;00m student\u001b[38;5;241m.\u001b[39mname\u001b[38;5;241m.\u001b[39mstrip()\u001b[38;5;241m.\u001b[39mlower() \u001b[38;5;241m==\u001b[39m \u001b[38;5;124m'\u001b[39m\u001b[38;5;124mpadma\u001b[39m\u001b[38;5;124m'\u001b[39m:\n\u001b[1;32m     21\u001b[0m         student[\u001b[38;5;241m1\u001b[39m] \u001b[38;5;241m=\u001b[39m \u001b[38;5;124m\"\u001b[39m\u001b[38;5;124mRavenclaw\u001b[39m\u001b[38;5;124m\"\u001b[39m\n",
      "Cell \u001b[0;32mIn[17], line 29\u001b[0m, in \u001b[0;36mget_student\u001b[0;34m()\u001b[0m\n\u001b[1;32m     24\u001b[0m \u001b[38;5;28;01mdef\u001b[39;00m \u001b[38;5;21mget_student\u001b[39m():\n\u001b[1;32m     25\u001b[0m     \u001b[38;5;66;03m# student = Student()\u001b[39;00m\n\u001b[1;32m     26\u001b[0m     \u001b[38;5;66;03m# student.name = input(\"Name: \")\u001b[39;00m\n\u001b[1;32m     27\u001b[0m     \u001b[38;5;66;03m# student.house = input(\"House: \")\u001b[39;00m\n\u001b[1;32m     28\u001b[0m     \u001b[38;5;66;03m# return student\u001b[39;00m\n\u001b[0;32m---> 29\u001b[0m     \u001b[38;5;28;01mreturn\u001b[39;00m \u001b[43mStudent\u001b[49m\u001b[43m(\u001b[49m\u001b[38;5;28;43minput\u001b[39;49m\u001b[43m(\u001b[49m\u001b[38;5;124;43m\"\u001b[39;49m\u001b[38;5;124;43mName: \u001b[39;49m\u001b[38;5;124;43m\"\u001b[39;49m\u001b[43m)\u001b[49m\u001b[43m,\u001b[49m\u001b[43m \u001b[49m\u001b[38;5;28;43minput\u001b[39;49m\u001b[43m(\u001b[49m\u001b[38;5;124;43m\"\u001b[39;49m\u001b[38;5;124;43mHouse: \u001b[39;49m\u001b[38;5;124;43m\"\u001b[39;49m\u001b[43m)\u001b[49m\u001b[43m)\u001b[49m\n",
      "Cell \u001b[0;32mIn[17], line 6\u001b[0m, in \u001b[0;36mStudent.__init__\u001b[0;34m(self, name, house)\u001b[0m\n\u001b[1;32m      4\u001b[0m \u001b[38;5;28;01mdef\u001b[39;00m \u001b[38;5;21m__init__\u001b[39m(\u001b[38;5;28mself\u001b[39m, name, house):\n\u001b[1;32m      5\u001b[0m     \u001b[38;5;28;01mif\u001b[39;00m \u001b[38;5;129;01mnot\u001b[39;00m name:\n\u001b[0;32m----> 6\u001b[0m         \u001b[38;5;28;01mraise\u001b[39;00m \u001b[38;5;167;01mValueError\u001b[39;00m(\u001b[38;5;124m\"\u001b[39m\u001b[38;5;124mMissing name\u001b[39m\u001b[38;5;124m\"\u001b[39m)\n\u001b[1;32m      8\u001b[0m     \u001b[38;5;28mself\u001b[39m\u001b[38;5;241m.\u001b[39mname \u001b[38;5;241m=\u001b[39m name\n\u001b[1;32m      9\u001b[0m     \u001b[38;5;28mself\u001b[39m\u001b[38;5;241m.\u001b[39mhouse \u001b[38;5;241m=\u001b[39m house\n",
      "\u001b[0;31mValueError\u001b[0m: Missing name"
     ]
    }
   ],
   "source": [
    "# class with Exception handling\n",
    "\n",
    "class Student:\n",
    "    def __init__(self, name, house):\n",
    "        if not name:\n",
    "            raise ValueError(\"Missing name\")  # custom error message\n",
    "\n",
    "        self.name = name\n",
    "        self.house = house\n",
    "\n",
    "    # dunder that returns string for printing\n",
    "    # print() calls this function\n",
    "    def __str__(self):  \n",
    "        return f\"{self.name} from {self.house}\"\n",
    "\n",
    "    # def __repr__(self):  # similar to __str__ but can do more. Mostly for developers.\n",
    "\n",
    "def main():\n",
    "    student = get_student()\n",
    "    if student.name.strip().lower() == 'padma':\n",
    "        student[1] = \"Ravenclaw\"\n",
    "    print(student)\n",
    "\n",
    "def get_student():\n",
    "    # student = Student()\n",
    "    # student.name = input(\"Name: \")\n",
    "    # student.house = input(\"House: \")\n",
    "    # return student\n",
    "    return Student(input(\"Name: \"), input(\"House: \"))\n",
    "\n",
    "if __name__ == \"__main__\":\n",
    "    main()"
   ]
  },
  {
   "cell_type": "markdown",
   "metadata": {},
   "source": [
    "## 8.1 Methods"
   ]
  },
  {
   "cell_type": "code",
   "execution_count": null,
   "metadata": {},
   "outputs": [
    {
     "name": "stdout",
     "output_type": "stream",
     "text": [
      "Expecto Patronum!\n",
      "🦌\n"
     ]
    }
   ],
   "source": [
    "# class with method\n",
    "\n",
    "class Student:\n",
    "    def __init__(self, name, house, patronus):\n",
    "        if not name:\n",
    "            raise ValueError(\"Missing name\")  # custom error message\n",
    "\n",
    "        self.name = name\n",
    "        self.house = house\n",
    "        self.patronus = patronus\n",
    "\n",
    "    # dunder that returns string for printing\n",
    "    # print() calls this function\n",
    "    def __str__(self):  \n",
    "        return f\"{self.name} from {self.house}\"\n",
    "\n",
    "    # def __repr__(self):  # similar to __str__ but can do more. Mostly for developers.\n",
    "\n",
    "    def charm(self):\n",
    "        match self.patronus:\n",
    "            case 'stag':\n",
    "                return \"🦌\"\n",
    "            case 'otter':\n",
    "                return \"🦦\"\n",
    "            case 'terrier':\n",
    "                return \"🐶\"\n",
    "            case _:\n",
    "                return \"🧙‍♂️\"\n",
    "\n",
    "def main():\n",
    "    student = get_student()\n",
    "    if student.name.strip().lower() == 'padma':\n",
    "        student[1] = \"Ravenclaw\"\n",
    "    print('Expecto Patronum!')\n",
    "    print(student.charm())\n",
    "\n",
    "def get_student():\n",
    "    # student = Student()\n",
    "    # student.name = input(\"Name: \")\n",
    "    # student.house = input(\"House: \")\n",
    "    # return student\n",
    "    return Student(input(\"Name: \"), input(\"House: \"), input(\"Patronus: \"))\n",
    "\n",
    "if __name__ == \"__main__\":\n",
    "    main()"
   ]
  },
  {
   "cell_type": "markdown",
   "metadata": {},
   "source": [
    "## 8.2 Properties and decorators. Setter and Getter methods"
   ]
  },
  {
   "cell_type": "code",
   "execution_count": null,
   "metadata": {},
   "outputs": [
    {
     "name": "stdout",
     "output_type": "stream",
     "text": [
      "Harry from Gryffindor\n"
     ]
    }
   ],
   "source": [
    "# properties and decorators\n",
    "# This example restricts instance variable updates using properties and decorators\n",
    "# Python naming convention: class variables with an underscore prefix are 'private' variables\n",
    "\n",
    "class Student:\n",
    "    def __init__(self, name, house):\n",
    "        self.name = name\n",
    "\n",
    "        # this calls the setter method\n",
    "        # the lack of underscore in self.house enables calling the getter and the setter methods\n",
    "        self.house = house  \n",
    "\n",
    "    def __str__(self):  \n",
    "        return f\"{self.name} from {self.house}\"\n",
    "\n",
    "    # Getter: reads the house variable. It takes one variable\n",
    "    @property\n",
    "    def house(self):\n",
    "        # an underscore _house is needed to differentiate it from the instance variable    \n",
    "        return self._house  \n",
    "    \n",
    "    # Setter: sets or updates the house variables. It takes two variables\n",
    "    # called at an assignment ('=') operation\n",
    "    # house.setter because the property above is names house()\n",
    "    @house.setter\n",
    "    def house(self, house):\n",
    "        if house not in ['Gryffindor', 'Hufflepuff', 'Ravenclaw', 'Slytherin']:\n",
    "            raise ValueError('Invalid house')\n",
    "        # an underscore _house is needed to differentiate it from the instance variable    \n",
    "        self._house = house\n",
    "\n",
    "def main():\n",
    "    student = get_student()\n",
    "    # student.house = \"Number 4, Privet Drive\"  # this calls the setter function\n",
    "    print(student)\n",
    "\n",
    "def get_student():\n",
    "    return Student(\"Harry\", \"Gryffindor\")\n",
    "    # return Student(input(\"Name: \"), input(\"House: \"))\n",
    "\n",
    "if __name__ == \"__main__\":\n",
    "    main()"
   ]
  },
  {
   "cell_type": "markdown",
   "metadata": {},
   "source": [
    "## 8.3 Class method\n",
    "\n",
    "With class methods, we can access the methods in a class without instantiating the class"
   ]
  },
  {
   "cell_type": "code",
   "execution_count": 26,
   "metadata": {},
   "outputs": [
    {
     "name": "stdout",
     "output_type": "stream",
     "text": [
      "Harry is in Gryffindor\n"
     ]
    }
   ],
   "source": [
    "# @classmethod\n",
    "import random\n",
    "\n",
    "class Hat:\n",
    "    def __init__(self) -> None:\n",
    "        self.houses = ['Gryffindor', 'Hufflepuff', 'Ravenclaw', 'Slytherin']\n",
    "\n",
    "    def sort(self, name):\n",
    "        house = random.choice(self.houses)\n",
    "        print(f\"{name} is in {house}\")\n",
    "\n",
    "hat = Hat()\n",
    "hat.sort('Harry')"
   ]
  },
  {
   "cell_type": "code",
   "execution_count": 28,
   "metadata": {},
   "outputs": [
    {
     "name": "stdout",
     "output_type": "stream",
     "text": [
      "Harry is in Slytherin\n"
     ]
    }
   ],
   "source": [
    "# @classmethod\n",
    "import random\n",
    "\n",
    "class Hat:\n",
    "    houses = ['Gryffindor', 'Hufflepuff', 'Ravenclaw', 'Slytherin']\n",
    "\n",
    "    @classmethod\n",
    "    def sort(cls, name):\n",
    "        house = random.choice(cls.houses)\n",
    "        print(f\"{name} is in {house}\")\n",
    "\n",
    "Hat.sort('Harry')"
   ]
  },
  {
   "cell_type": "markdown",
   "metadata": {},
   "source": [
    "## 8.4 Static Method"
   ]
  },
  {
   "cell_type": "markdown",
   "metadata": {},
   "source": [
    "## 8.5 Inheritance"
   ]
  },
  {
   "cell_type": "code",
   "execution_count": null,
   "metadata": {},
   "outputs": [
    {
     "name": "stdout",
     "output_type": "stream",
     "text": [
      "Harry from Gryffindor\n"
     ]
    }
   ],
   "source": [
    "class Wizard:\n",
    "    def __init__(self, name):\n",
    "        if not name:\n",
    "            raise ValueError(\"Missing name\")\n",
    "        self.name = name\n",
    "\n",
    "\n",
    "class Student(Wizard):\n",
    "    def __init__(self, name, house):\n",
    "        super().__init__(name)   # calls the super class i.e. Wizard __init__ function\n",
    "        self.house = house  \n",
    "\n",
    "    def __str__(self):  \n",
    "        return f\"{self.name} from {self.house}\"\n",
    "    \n",
    "\n",
    "class Professor(Wizard):\n",
    "    def __init__(self, name, subject):\n",
    "        super().__init__(name)   # calls the super class i.e. Wizard __init__ function\n",
    "        self.subject = subject\n",
    "\n",
    "wizard = Wizard(\"Albus\")\n",
    "student = Student(\"Harry\", \"Gryffindor\")\n",
    "professor = Professor(\"Severus\", \"Defense Agains the Dark Arts\")\n",
    "\n",
    "print(student)"
   ]
  },
  {
   "cell_type": "code",
   "execution_count": 38,
   "metadata": {},
   "outputs": [
    {
     "name": "stdout",
     "output_type": "stream",
     "text": [
      "100 galleons, 50 sickles, 20 knuts\n",
      "25 galleons, 30 sickles, 10 knuts\n",
      "125 galleons, 80 sickles, 30 knuts\n"
     ]
    }
   ],
   "source": [
    "# operator overloading\n",
    "# add two objects\n",
    "\n",
    "class Vault:\n",
    "    def __init__(self, galleons = 0, sickles = 0, knuts = 0):\n",
    "        self.galleons = galleons\n",
    "        self.sickles = sickles\n",
    "        self.knuts = knuts\n",
    "\n",
    "    def __str__(self):\n",
    "        return (f\"{self.galleons} galleons, {self.sickles} sickles, {self.knuts} knuts\")\n",
    "    \n",
    "    def __add__(self, other):\n",
    "        galleons = self.galleons + other.galleons\n",
    "        sickles = self.sickles + other.sickles\n",
    "        knuts = self.knuts + other.knuts\n",
    "        return Vault(galleons, sickles, knuts)\n",
    "\n",
    "potter = Vault(100,50,20)\n",
    "print(potter)\n",
    "\n",
    "weasly = Vault(25, 30, 10)\n",
    "print(weasly)\n",
    "\n",
    "total = potter + weasly\n",
    "print(total)"
   ]
  },
  {
   "cell_type": "markdown",
   "metadata": {},
   "source": [
    "# 9. Et Cetera <a id=etc>\n",
    "[Back to top](#top)\n",
    "\n",
    "docs.python.org/3/howto"
   ]
  },
  {
   "cell_type": "markdown",
   "metadata": {},
   "source": [
    "## 9.1 Set"
   ]
  },
  {
   "cell_type": "code",
   "execution_count": null,
   "metadata": {},
   "outputs": [
    {
     "name": "stdout",
     "output_type": "stream",
     "text": [
      "Gryff\n",
      "Slyth\n"
     ]
    }
   ],
   "source": [
    "# list\n",
    "\n",
    "students = [\n",
    "    {\"name\": \"Herm\", \"house\": \"Gryff\", \"patronus\":\"otter\"},\n",
    "    {\"name\": \"Harry\", \"house\": \"Gryff\", \"patronus\":\"stag\"},\n",
    "    {\"name\": \"Ron\", \"house\": \"Gryff\", \"patronus\":\"terrier\"},\n",
    "    {\"name\": \"Draco\", \"house\": \"Slyth\", \"patronus\":None}\n",
    "]\n",
    "\n",
    "houses = []\n",
    "for student in students:\n",
    "    if student['house'] not in houses:\n",
    "        houses.append(student['house'])\n",
    "\n",
    "for house in sorted(houses):\n",
    "    print(house)"
   ]
  },
  {
   "cell_type": "code",
   "execution_count": 40,
   "metadata": {},
   "outputs": [
    {
     "name": "stdout",
     "output_type": "stream",
     "text": [
      "Gryff\n",
      "Slyth\n"
     ]
    }
   ],
   "source": [
    "# set\n",
    "\n",
    "students = [\n",
    "    {\"name\": \"Herm\", \"house\": \"Gryff\", \"patronus\":\"otter\"},\n",
    "    {\"name\": \"Harry\", \"house\": \"Gryff\", \"patronus\":\"stag\"},\n",
    "    {\"name\": \"Ron\", \"house\": \"Gryff\", \"patronus\":\"terrier\"},\n",
    "    {\"name\": \"Draco\", \"house\": \"Slyth\", \"patronus\":None}\n",
    "]\n",
    "\n",
    "houses = set()\n",
    "for student in students:\n",
    "    houses.add(student['house'])\n",
    "\n",
    "for house in sorted(houses):\n",
    "    print(house)"
   ]
  },
  {
   "cell_type": "markdown",
   "metadata": {},
   "source": [
    "## 9.2 Global variable\n",
    "\n",
    "We can read a global variable, but cannot write/update it.\n",
    "We have to use 'global' keyword to do the same."
   ]
  },
  {
   "cell_type": "code",
   "execution_count": null,
   "metadata": {},
   "outputs": [
    {
     "name": "stdout",
     "output_type": "stream",
     "text": [
      "Balance init:  0\n",
      "Balance after:  50\n"
     ]
    }
   ],
   "source": [
    "balance = 0\n",
    "\n",
    "def main():\n",
    "    # balance = 0\n",
    "    print(f\"Balance init: \", balance)\n",
    "    deposit(100)\n",
    "    withdraw(50)\n",
    "    print(f'Balance after: ', balance)\n",
    "\n",
    "def deposit(n):\n",
    "    global balance\n",
    "    balance += n\n",
    "\n",
    "def withdraw(n):\n",
    "    global balance\n",
    "    balance -= n\n",
    "\n",
    "if __name__ == '__main__':\n",
    "    main()"
   ]
  },
  {
   "cell_type": "code",
   "execution_count": null,
   "metadata": {},
   "outputs": [
    {
     "name": "stdout",
     "output_type": "stream",
     "text": [
      "Balance init:  0\n",
      "Balance after:  50\n"
     ]
    }
   ],
   "source": [
    "class Account:\n",
    "    def __init__(self):\n",
    "        self._balance = 0  # underscore to indicate 'private' variable\n",
    "\n",
    "    @property\n",
    "    def balance(self):\n",
    "        \"\"\"Getter\"\"\"\n",
    "        return self._balance\n",
    "\n",
    "    def deposit(self,n: int):\n",
    "        \"\"\"\n",
    "        Deposit\n",
    "        \n",
    "        :param n: deposit amount\n",
    "        :type n: int\n",
    "        :raise TypeError: if n is not int\n",
    "        :return: an updated account balance\n",
    "        :rtype: int\n",
    "        \"\"\"\n",
    "        self._balance += n\n",
    "\n",
    "    def withdraw(self,n):\n",
    "        \"\"\"Withdraw\"\"\"\n",
    "        self._balance -= n\n",
    "\n",
    "def main():\n",
    "    account = Account()\n",
    "    print(f\"Balance init: \", account.balance)\n",
    "    account.deposit\n",
    "    account.withdraw(50)\n",
    "    print(f'Balance after: ', account.balance)\n",
    "\n",
    "if __name__ == '__main__':\n",
    "    main()"
   ]
  },
  {
   "cell_type": "markdown",
   "metadata": {},
   "source": [
    "## 9.3 mypy\n",
    "\n",
    "mypy checks if the codes in a file handles datatype of variables accurately\n",
    "\n",
    "$ mypy <filename.py>"
   ]
  },
  {
   "cell_type": "markdown",
   "metadata": {},
   "source": [
    "## 9.4 argparse\n",
    "\n",
    "argparse handles parsing of command line arguments"
   ]
  },
  {
   "cell_type": "code",
   "execution_count": null,
   "metadata": {},
   "outputs": [
    {
     "name": "stderr",
     "output_type": "stream",
     "text": [
      "usage: ipykernel_launcher.py [-h] [-n N]\n",
      "ipykernel_launcher.py: error: unrecognized arguments: --f=/home/peka/.local/share/jupyter/runtime/kernel-v321d535b8fccf7be49ae34de6b680f3289dc182cd.json\n"
     ]
    },
    {
     "ename": "SystemExit",
     "evalue": "2",
     "output_type": "error",
     "traceback": [
      "An exception has occurred, use %tb to see the full traceback.\n",
      "\u001b[0;31mSystemExit\u001b[0m\u001b[0;31m:\u001b[0m 2\n"
     ]
    },
    {
     "name": "stderr",
     "output_type": "stream",
     "text": [
      "/home/peka/prototypes/.venv/lib/python3.10/site-packages/IPython/core/interactiveshell.py:3585: UserWarning: To exit: use 'exit', 'quit', or Ctrl-D.\n",
      "  warn(\"To exit: use 'exit', 'quit', or Ctrl-D.\", stacklevel=1)\n"
     ]
    }
   ],
   "source": [
    "import argparse\n",
    "\n",
    "parser = argparse.ArgumentParser(description = \"Meow like a cat\")\n",
    "parser.add_argument(\"-n\", help = \"number of times to meow\", default = 1, type = int)  # type = int triggers error message if 'n' is a non integer\n",
    "args = parser.parse_args()\n",
    "\n",
    "# The 'n' here contains the number entered after '-n' in the command line\n",
    "# for _ in range(int(args.n)):\n",
    "for _ in range(args.n):  # no need to convert to int. type = int above convert it to int\n",
    "    print(\"meow\")"
   ]
  },
  {
   "cell_type": "markdown",
   "metadata": {},
   "source": [
    "## 9.5 Unpacking"
   ]
  },
  {
   "cell_type": "code",
   "execution_count": null,
   "metadata": {},
   "outputs": [
    {
     "name": "stdout",
     "output_type": "stream",
     "text": [
      "49915 Knuts\n"
     ]
    }
   ],
   "source": [
    "# * is used for unpacking list\n",
    "# ** for dict\n",
    "# works for list and dict, but not set\n",
    "\n",
    "def total(gal, sick, knuts):\n",
    "    return (gal * 17 + sick) * 29 + knuts\n",
    "\n",
    "# coins = [100, 50, 25]\n",
    "coins = {\"gal\":100, 'sick': 20, 'knuts': 35}\n",
    "\n",
    "# print(total(coins), \"Knuts\")\n",
    "# print(total(*coins), \"Knuts\")   # list\n",
    "print(total(**coins), \"Knuts\")  # dict"
   ]
  },
  {
   "cell_type": "markdown",
   "metadata": {},
   "source": [
    "## 9.6 map"
   ]
  },
  {
   "cell_type": "code",
   "execution_count": null,
   "metadata": {},
   "outputs": [
    {
     "name": "stdout",
     "output_type": "stream",
     "text": [
      "THIS IS CS50\n"
     ]
    }
   ],
   "source": [
    "def main():\n",
    "    yell('this','is','cs50')\n",
    "\n",
    "def yell(*words: list) -> None:\n",
    "    uppercased = map(str.upper, words)   # map(function, arguments)\n",
    "    print(*uppercased)\n",
    "\n",
    "if __name__ ==  \"__main__\":\n",
    "    main()"
   ]
  },
  {
   "cell_type": "markdown",
   "metadata": {},
   "source": [
    "## 9.7 List Comprehension"
   ]
  },
  {
   "cell_type": "code",
   "execution_count": 82,
   "metadata": {},
   "outputs": [
    {
     "name": "stdout",
     "output_type": "stream",
     "text": [
      "THIS IS CS50\n"
     ]
    }
   ],
   "source": [
    "def main():\n",
    "    yell('this','is','cs50')\n",
    "\n",
    "def yell(*words: list) -> None:\n",
    "    uppercased = [word.upper() for word in words]\n",
    "    print(*uppercased)\n",
    "\n",
    "if __name__ ==  \"__main__\":\n",
    "    main()"
   ]
  },
  {
   "cell_type": "code",
   "execution_count": 83,
   "metadata": {},
   "outputs": [
    {
     "name": "stdout",
     "output_type": "stream",
     "text": [
      "Harry\n",
      "Herm\n",
      "Ron\n"
     ]
    }
   ],
   "source": [
    "students = [\n",
    "    {\"name\": \"Herm\", \"house\": \"Gryffindor\", \"patronus\":\"otter\"},\n",
    "    {\"name\": \"Harry\", \"house\": \"Gryffindor\", \"patronus\":\"stag\"},\n",
    "    {\"name\": \"Ron\", \"house\": \"Gryffindor\", \"patronus\":\"terrier\"},\n",
    "    {\"name\": \"Draco\", \"house\": \"Slytherin\", \"patronus\":None}\n",
    "]\n",
    "\n",
    "gryffindors = [\n",
    "    student['name'] for student in students if student['house'] == 'Gryffindor'\n",
    "]\n",
    "\n",
    "for gryffindor in sorted(gryffindors):\n",
    "    print(gryffindor)"
   ]
  },
  {
   "cell_type": "markdown",
   "metadata": {},
   "source": [
    "## 9.8 filter"
   ]
  },
  {
   "cell_type": "code",
   "execution_count": 89,
   "metadata": {},
   "outputs": [
    {
     "ename": "TypeError",
     "evalue": "'<' not supported between instances of 'dict' and 'dict'",
     "output_type": "error",
     "traceback": [
      "\u001b[0;31m---------------------------------------------------------------------------\u001b[0m",
      "\u001b[0;31mTypeError\u001b[0m                                 Traceback (most recent call last)",
      "Cell \u001b[0;32mIn[89], line 14\u001b[0m\n\u001b[1;32m     11\u001b[0m gryffindors \u001b[38;5;241m=\u001b[39m \u001b[38;5;28mfilter\u001b[39m(is_gryffindor, students)  \u001b[38;5;66;03m# filter(boolean, list)\u001b[39;00m\n\u001b[1;32m     13\u001b[0m \u001b[38;5;66;03m# for gryffindor in gryffindors:\u001b[39;00m\n\u001b[0;32m---> 14\u001b[0m \u001b[38;5;28;01mfor\u001b[39;00m gryffindor \u001b[38;5;129;01min\u001b[39;00m \u001b[38;5;28;43msorted\u001b[39;49m\u001b[43m(\u001b[49m\u001b[43mgryffindors\u001b[49m\u001b[43m)\u001b[49m:  \u001b[38;5;66;03m# this fails with :: TypeError: '<' not supported between instances of 'dict' and 'dict'\u001b[39;00m\n\u001b[1;32m     15\u001b[0m \u001b[38;5;66;03m# for gryffindor in sorted(gryffindors, key = lambda s:s['name']):\u001b[39;00m\n\u001b[1;32m     16\u001b[0m     \u001b[38;5;28mprint\u001b[39m(gryffindor)\n",
      "\u001b[0;31mTypeError\u001b[0m: '<' not supported between instances of 'dict' and 'dict'"
     ]
    }
   ],
   "source": [
    "students = [\n",
    "    {\"name\": \"Herm\", \"house\": \"Gryffindor\", \"patronus\":\"otter\"},\n",
    "    {\"name\": \"Harry\", \"house\": \"Gryffindor\", \"patronus\":\"stag\"},\n",
    "    {\"name\": \"Ron\", \"house\": \"Gryffindor\", \"patronus\":\"terrier\"},\n",
    "    {\"name\": \"Draco\", \"house\": \"Slytherin\", \"patronus\":None}\n",
    "]\n",
    "\n",
    "def is_gryffindor(s):\n",
    "    return s['house'] == 'Gryffindor'\n",
    "\n",
    "gryffindors = filter(is_gryffindor, students)  # filter(boolean, list)\n",
    "\n",
    "# for gryffindor in gryffindors:\n",
    "for gryffindor in sorted(gryffindors):  # this fails with :: TypeError: '<' not supported between instances of 'dict' and 'dict'\n",
    "# for gryffindor in sorted(gryffindors, key = lambda s:s['name']):\n",
    "    print(gryffindor)"
   ]
  }
 ],
 "metadata": {
  "kernelspec": {
   "display_name": ".venv",
   "language": "python",
   "name": "python3"
  },
  "language_info": {
   "codemirror_mode": {
    "name": "ipython",
    "version": 3
   },
   "file_extension": ".py",
   "mimetype": "text/x-python",
   "name": "python",
   "nbconvert_exporter": "python",
   "pygments_lexer": "ipython3",
   "version": "3.10.12"
  }
 },
 "nbformat": 4,
 "nbformat_minor": 2
}
