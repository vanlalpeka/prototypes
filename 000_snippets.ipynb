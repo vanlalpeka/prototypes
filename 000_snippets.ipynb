{
 "cells": [
  {
   "cell_type": "markdown",
   "metadata": {},
   "source": [
    "# Python code snippets\n",
    "Python code snippets and best practices <a id=top>\n",
    "1. [List Comprehension](#list)\n",
    "2. [Generators](#gen) to save memory\n",
    "3. merge dictionaries with **"
   ]
  },
  {
   "cell_type": "markdown",
   "metadata": {},
   "source": [
    "# Data Types <a id=datatype>\n",
    "[Back to top](#top)\n",
    "\n",
    "Python has mutable and immutable data types.\n",
    "\n",
    "Mutable: \n",
    "Immutable:"
   ]
  },
  {
   "cell_type": "code",
   "execution_count": 1,
   "metadata": {},
   "outputs": [
    {
     "name": "stdout",
     "output_type": "stream",
     "text": [
      "<class 'int'>\n",
      "<class 'float'>\n",
      "<class 'complex'>\n",
      "<class 'bool'>\n",
      "<class 'str'>\n",
      "<class 'tuple'>\n",
      "<class 'set'>\n",
      "<class 'list'>\n",
      "<class 'dict'>\n"
     ]
    }
   ],
   "source": [
    "# immutable\n",
    "print(type(12))\n",
    "print(type(365.25))\n",
    "print(type(1+5j))\n",
    "print(type(True))\n",
    "print(type('String'))\n",
    "print(type(('tuple',0)))\n",
    " \n",
    "# mutable\n",
    "print(type({'set',0}))\n",
    "print(type(['list',0]))    \n",
    "print(type({'key':'value'}))"
   ]
  },
  {
   "cell_type": "markdown",
   "metadata": {},
   "source": [
    "# List Comprehension <a id=list>\n",
    "[Back to top](#top)"
   ]
  },
  {
   "cell_type": "code",
   "execution_count": null,
   "metadata": {},
   "outputs": [],
   "source": []
  },
  {
   "cell_type": "markdown",
   "metadata": {},
   "source": [
    "# Generators <a id=gen>\n",
    "[Back to top](#top)"
   ]
  }
 ],
 "metadata": {
  "kernelspec": {
   "display_name": ".venv",
   "language": "python",
   "name": "python3"
  },
  "language_info": {
   "codemirror_mode": {
    "name": "ipython",
    "version": 3
   },
   "file_extension": ".py",
   "mimetype": "text/x-python",
   "name": "python",
   "nbconvert_exporter": "python",
   "pygments_lexer": "ipython3",
   "version": "3.10.12"
  }
 },
 "nbformat": 4,
 "nbformat_minor": 2
}
