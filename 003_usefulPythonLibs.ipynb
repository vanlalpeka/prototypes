{
 "cells": [
  {
   "cell_type": "markdown",
   "metadata": {},
   "source": [
    "# Useful python libraries\n",
    "(source: https://www.youtube.com/watch?v=o06MyVhYte4)\n",
    "\n",
    "List of libraries<a id=top>\n",
    "1. [Pendulum](#pendulum)\n",
    "2. [pypdf](#pypdf) to manage pdf files\n",
    "3. [icecream](#icecream), an alternative to print() and log()\n",
    "4. [loguru](#loguru), for logging\n",
    "5. [rich](#rich) rich text command line output\n",
    "6. [argparse](#argparse) to build Command Line Interface\n",
    "7. [tqdm](#tqdm) progress bar\n",
    "8. [xarray](#xarray) \"human-friendly\" array\n",
    "9. [polars](#polars) fast dataframe, handles larger data \n",
    "10. [seaborn](#seaborn) visualization built on top of matplotlib\n",
    "11. [result](#result) exception handling\n",
    "12. [pydantic](#pydantic) data validation\n",
    "13. [FastAPI](#fastapi) framework for backend API. Supports concurency  and async out-of-the-box\n",
    "14. [SQLModel](#sqlmodel) an Object Relational Mapping (ORM).. similar to Django's\n",
    "15. [HTTPX](#httpx) HTTP client\n",
    "16. [python-dotenv]\n",
    "\n",
    "functions: print(), help(), range(), map(), filter(), sorted(), sum(), enumerate(), zip(), open()"
   ]
  },
  {
   "cell_type": "markdown",
   "metadata": {},
   "source": [
    "# Pendulum<a id=pendulum>\n",
    "Back to top(#top)\n"
   ]
  },
  {
   "cell_type": "code",
   "execution_count": 5,
   "metadata": {},
   "outputs": [
    {
     "name": "stdout",
     "output_type": "stream",
     "text": [
      "2024-11-27 18:04:04.555569+01:00\n",
      "2024-11-27 12:04:04.555830-05:00\n",
      "2024-11-27T18:04:04.557626+01:00\n",
      "2024-11-29 18:04:04.557738+01:00\n"
     ]
    }
   ],
   "source": [
    "import pendulum\n",
    "\n",
    "print(pendulum.now(\"Europe/Paris\"))\n",
    "\n",
    "# Changing timezone\n",
    "print(pendulum.now(\"Europe/Paris\").in_timezone(\"America/Toronto\"))\n",
    "\n",
    "# Default support for common datetime formats\n",
    "print(pendulum.now(\"Europe/Paris\").to_iso8601_string())\n",
    "\n",
    "# Shifting\n",
    "print(pendulum.now(\"Europe/Paris\").add(days=2))"
   ]
  }
 ],
 "metadata": {
  "kernelspec": {
   "display_name": ".venv",
   "language": "python",
   "name": "python3"
  },
  "language_info": {
   "codemirror_mode": {
    "name": "ipython",
    "version": 3
   },
   "file_extension": ".py",
   "mimetype": "text/x-python",
   "name": "python",
   "nbconvert_exporter": "python",
   "pygments_lexer": "ipython3",
   "version": "3.10.12"
  }
 },
 "nbformat": 4,
 "nbformat_minor": 2
}
