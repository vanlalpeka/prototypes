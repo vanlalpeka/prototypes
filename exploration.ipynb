{
 "cells": [
  {
   "cell_type": "code",
   "execution_count": null,
   "metadata": {},
   "outputs": [],
   "source": [
    "import gzip\n",
    " \n",
    "with gzip.open('camelyonpatch_level_2_split_train_x.h5-002.gz', 'rb') as f:\n",
    "  file_content = f.read()\n",
    " \n",
    "print(file_content)"
   ]
  },
  {
   "cell_type": "code",
   "execution_count": null,
   "metadata": {},
   "outputs": [],
   "source": [
    "\n",
    "# importing the \"tarfile\" module \n",
    "import tarfile \n",
    "  \n",
    "# open file \n",
    "file = tarfile.open('cifar-10-python.tar.gz') \n",
    "  \n",
    "# extracting file \n",
    "file.extractall('./datasets') \n",
    "  \n",
    "file.close() "
   ]
  },
  {
   "cell_type": "code",
   "execution_count": 3,
   "metadata": {},
   "outputs": [
    {
     "name": "stdout",
     "output_type": "stream",
     "text": [
      "Batch size: torch.Size([64, 3, 32, 32]), Labels: torch.Size([64])\n"
     ]
    }
   ],
   "source": [
    "import torchvision.transforms as transforms\n",
    "import torchvision.datasets as datasets\n",
    "from torch.utils.data import DataLoader\n",
    "\n",
    "# Set the directory where CIFAR-10 is downloaded\n",
    "data_dir = './datasets/cifar-10-batches-py'  # replace with your directory\n",
    "\n",
    "# Define any transformations you want to apply to the images\n",
    "transform = transforms.Compose([\n",
    "    transforms.ToTensor(),           # Convert images to PyTorch tensors\n",
    "    transforms.Normalize((0.5, 0.5, 0.5), (0.5, 0.5, 0.5))  # Normalize the images\n",
    "])\n",
    "\n",
    "# Load the dataset\n",
    "train_data = datasets.CIFAR10(root=data_dir, train=True, download=False, transform=transform)\n",
    "test_data = datasets.CIFAR10(root=data_dir, train=False, download=False, transform=transform)\n",
    "\n",
    "# Create data loaders\n",
    "train_loader = DataLoader(train_data, batch_size=64, shuffle=True)\n",
    "test_loader = DataLoader(test_data, batch_size=64, shuffle=False)\n",
    "\n",
    "# Checking the first batch\n",
    "images, labels = next(iter(train_loader))\n",
    "print(f\"Batch size: {images.shape}, Labels: {labels.shape}\")\n"
   ]
  }
 ],
 "metadata": {
  "kernelspec": {
   "display_name": ".venv",
   "language": "python",
   "name": "python3"
  },
  "language_info": {
   "codemirror_mode": {
    "name": "ipython",
    "version": 3
   },
   "file_extension": ".py",
   "mimetype": "text/x-python",
   "name": "python",
   "nbconvert_exporter": "python",
   "pygments_lexer": "ipython3",
   "version": "3.10.12"
  }
 },
 "nbformat": 4,
 "nbformat_minor": 2
}
